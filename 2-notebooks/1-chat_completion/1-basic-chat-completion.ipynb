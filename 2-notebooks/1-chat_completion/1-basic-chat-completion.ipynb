{
 "cells": [
  {
   "cell_type": "markdown",
   "id": "56be2132",
   "metadata": {},
   "source": [
    "# 🍎 Chat Completions with AIProjectClient 🍏\n",
    "\n",
    "En este cuaderno, demostraremos cómo realizar **Chat Completions** utilizando el SDK **Azure AI Foundry**. Combinaremos los paquetes **`azure-ai-projects`** y **`azure-ai-inference`** para:\n",
    "\n",
    "1. **Inicializar** un `AIProjectClient`.\n",
    "2. **Obtener** un cliente de Chat Completions para realizar llamadas directas al LLM.\n",
    "3. **Utilizar** una **plantilla de prompt** para añadir el contexto del sistema.\n",
    "4. **Enviar** mensajes de usuario con una temática de salud y fitness.\n",
    "\n",
    "## 🏋️ Disclaimer\n",
    "> **Este ejemplo es solo para demostración y no proporciona asesoramiento real.** "
   ]
  },
  {
   "cell_type": "markdown",
   "id": "ce5fedcc",
   "metadata": {},
   "source": [
    "## 1. Initial Setup\n",
    "\n",
    "Cargar variables de entorno, crear un `AIProjectClient`, y obtener un `ChatCompletionsClient`. También definiremos un prompt template para mostrar cómo se podría estructurar un system message.\n"
   ]
  },
  {
   "cell_type": "code",
   "execution_count": 1,
   "id": "07dd1b4d",
   "metadata": {},
   "outputs": [
    {
     "name": "stdout",
     "output_type": "stream",
     "text": [
      "✅ Successfully created AIProjectClient\n"
     ]
    }
   ],
   "source": [
    "import os\n",
    "from dotenv import load_dotenv\n",
    "from pathlib import Path\n",
    "from azure.identity import DefaultAzureCredential\n",
    "\n",
    "from azure.ai.projects import AIProjectClient\n",
    "from azure.ai.inference.models import UserMessage, SystemMessage  # for chat messages\n",
    "\n",
    "# Load environment variables\n",
    "notebook_path = Path().absolute()\n",
    "parent_dir = notebook_path.parent\n",
    "load_dotenv(parent_dir / '../.env')\n",
    "\n",
    "# Retrieve from environment\n",
    "connection_string = os.environ.get(\"PROJECT_CONNECTION_STRING\")\n",
    "model_deployment = 'gpt-4o'\n",
    "\n",
    "try:\n",
    "    # Create the project client\n",
    "    project_client = AIProjectClient.from_connection_string(\n",
    "        credential=DefaultAzureCredential(),\n",
    "        conn_str=connection_string,\n",
    "    )\n",
    "    print(\"✅ Successfully created AIProjectClient\")\n",
    "except Exception as e:\n",
    "    print(\"❌ Error initializing client:\", e)\n"
   ]
  },
  {
   "cell_type": "markdown",
   "id": "f03c9a87",
   "metadata": {},
   "source": [
    "### Prompt Template\n",
    "\n",
    "Definiremos rápidamente un **system message** que establece el contexto como un asistente de fitness amigable que provee un descargo de responsabilidad.\n",
    "\n",
    "```txt\n",
    "SYSTEM PROMPT (template):\n",
    "Eres Virtual GPT, un asesor virtual amigable especializado en recomendar cursos virtuales para Bancolombia.\n",
    "Recuerda siempre a los usuarios: No soy un asesor académico oficial.\n",
    "Proporciona recomendaciones claras de cursos, explica brevemente cada uno y anima a los usuarios a explorar oportunidades de aprendizaje virtual.\n",
    "...\n",
    "```\n",
    "\n",
    "Luego pasaremos el contenido del **user** como un mensaje de usuario.\n"
   ]
  },
  {
   "cell_type": "code",
   "execution_count": 5,
   "id": "ab052b5e",
   "metadata": {},
   "outputs": [
    {
     "name": "stdout",
     "output_type": "stream",
     "text": [
      "Defined a helper function to do chat completions.\n"
     ]
    }
   ],
   "source": [
    "# We'll define a function that runs chat completions with a system prompt & user prompt\n",
    "def chat_with_assistant(user_input: str):\n",
    "    \"\"\"Use chat completions to get a response from our LLM, with system instructions.\"\"\"\n",
    "    # Our system message template\n",
    "    system_text = (\n",
    "        \"Eres Virtual GPT, un asesor virtual amigable especializado en recomendar cursos virtuales.\\n\"\n",
    "        \"Recuerda siempre a los usuarios: No soy un asesor académico oficial.\\n\"\n",
    "        \"Proporciona recomendaciones claras de cursos, explica brevemente cada uno y anima a los usuarios a explorar oportunidades de aprendizaje virtual.\"\n",
    "    )\n",
    "\n",
    "    # We'll open the chat completions client\n",
    "    with project_client.inference.get_chat_completions_client() as chat_client:\n",
    "        # Construct messages: system + user\n",
    "        system_message = SystemMessage(content=system_text)\n",
    "        user_message = UserMessage(content=user_input)\n",
    "\n",
    "        # Send the request\n",
    "        response = chat_client.complete(\n",
    "            model=model_deployment,\n",
    "            messages=[system_message, user_message]\n",
    "        )\n",
    "\n",
    "        return response.choices[0].message.content  # simplest approach: get top choice's content\n",
    "\n",
    "print(\"Defined a helper function to do chat completions.\")"
   ]
  },
  {
   "cell_type": "markdown",
   "id": "273d7bdd",
   "metadata": {},
   "source": [
    "## 2. Try Chat Completions 🎉\n",
    "\n",
    "Llamaremos a la función con una pregunta del usuario sobre educación, y veremos el resultado. ¡Siéntete libre de modificar la pregunta o ejecutarla varias veces!\n"
   ]
  },
  {
   "cell_type": "code",
   "execution_count": null,
   "id": "ee675bd5",
   "metadata": {},
   "outputs": [],
   "source": [
    "user_question = \"¿Qué cursos ecológicos me recomendarías para comenzar a aprender sobre sostenibilidad y cuidado del medio ambiente?\"\n",
    "reply = chat_with_assistant(user_question)\n",
    "print(\"🗣️ User:\", user_question)\n",
    "print(\"🤖 Assistant:\", reply)"
   ]
  },
  {
   "cell_type": "markdown",
   "id": "b6eff150",
   "metadata": {},
   "source": [
    "## 3. Another Example: Prompt Template with Fill-Ins 📝\n",
    "\n",
    "Podemos ir un poco más allá y añadir placeholders en el mensaje del sistema. Por ejemplo, imagina que tenemos un userName o goal. Mostraremos un ejemplo mínimo.\n"
   ]
  },
  {
   "cell_type": "code",
   "execution_count": null,
   "id": "cfec1e22",
   "metadata": {},
   "outputs": [
    {
     "name": "stdout",
     "output_type": "stream",
     "text": [
      "🗣️ User: ¿Qué cursos ecológicos me recomendarías para comenzar a aprender sobre sostenibilidad y cuidado del medio ambiente?\n",
      "🤖 Assistant: ¡Hola, Pablo! ¡Qué gran objetivo te has puesto! La sostenibilidad y el cuidado del medio ambiente son áreas cruciales para nuestro futuro. Aquí tienes algunas recomendaciones de cursos virtuales ofrecidos por el SENA que te ayudarán a comenzar tu camino como emprendedor en sostenibilidad y medio ambiente:\n",
      "\n",
      "1. **Gestión Ambiental**: Este curso te enseñará los principios básicos de la gestión ambiental, incluyendo temas como la normatividad ambiental, la gestión de residuos sólidos, la calidad del aire y del agua, y la implementación de sistemas de gestión ambiental en empresas y organizaciones.\n",
      "\n",
      "2. **Emprendimiento Sostenible**: En este curso aprenderás sobre la creación y gestión de proyectos empresariales sostenibles, cómo identificar oportunidades de negocio verde y desarrollar modelos de negocio que generen impacto positivo en el medio ambiente.\n",
      "\n",
      "3. **Responsabilidad Social Empresarial (RSE)**: Aquí explorarás cómo las empresas pueden crear estrategias que integren dimensiones económicas, sociales y ambientales, para ser sostenibles a largo plazo. Aprenderás sobre el marco legal, los estándares y las mejores prácticas en RSE.\n",
      "\n",
      "4. **Producción Más Limpia**: Este curso se enfoca en técnicas y tecnologías que buscan reducir el impacto ambiental negativo de los procesos productivos. Aprenderás a identificar oportunidades de mejora y a implementar prácticas más limpias y eficientes en el uso de recursos.\n",
      "\n",
      "5. **Agricultura Ecológica**: Te proporcionará conocimientos sobre técnicas agrícolas sostenibles, manejo de suelos, control biológico de plagas, y producción de alimentos sin el uso de productos químicos nocivos.\n",
      "\n",
      "6. **Energías Renovables**: Este curso te ofrecerá una base sólida sobre las principales tecnologías de energía renovable, como la solar, eólica, hidráulica y biomasa. Aprenderás sobre su implementación y el papel que juegan en la reducción del impacto ambiental.\n",
      "\n",
      "Te animo a explorar estos cursos y a aprovechar todas las oportunidades de aprendizaje virtual que ofrece el SENA. Recuerda siempre seguir investigando y formándote en estas áreas tan importantes. ¡Buena suerte en tu camino hacia un emprendimiento sostenible!\n",
      "\n",
      "No soy un asesor académico oficial.\n"
     ]
    }
   ],
   "source": [
    "def chat_with_template(user_input: str, user_name: str, goal: str):\n",
    "    # Construct a system template with placeholders\n",
    "    system_template = (\n",
    "        \"Eres Virtual GPT, un asesor virtual amigable especializado en recomendar cursos virtuales para SENA.\\n\"\n",
    "        \"Recuerda siempre a los usuarios: No soy un asesor académico oficial.\\n\"\n",
    "        \"Recomienda cursos virtuales dirigidos a {name} para alcanzar: {goal}.\\n\"\n",
    "        \"Proporciona recomendaciones claras de cursos, explica brevemente cada uno y anima a los usuarios a explorar oportunidades de aprendizaje virtual.\"\n",
    "    )\n",
    "\n",
    "    # Fill in placeholders\n",
    "    system_prompt = system_template.format(name=user_name, goal=goal)\n",
    "\n",
    "    with project_client.inference.get_chat_completions_client() as chat_client:\n",
    "        system_msg = SystemMessage(content=system_prompt)\n",
    "        user_msg = UserMessage(content=user_input)\n",
    "\n",
    "        response = chat_client.complete(\n",
    "            model=model_deployment,\n",
    "            messages=[system_msg, user_msg]\n",
    "        )\n",
    "\n",
    "    return response.choices[0].message.content\n",
    "\n",
    "# Let's try it out\n",
    "templated_user_input = \"¿Qué cursos ecológicos me recomendarías para comenzar a aprender sobre sostenibilidad y cuidado del medio ambiente?\"\n",
    "assistant_reply = chat_with_template(\n",
    "    templated_user_input,\n",
    "    user_name=\"Pablo\",\n",
    "    goal=\"ser emprendedor en sostenibilidad y medio ambiente\"\n",
    ")\n",
    "print(\"🗣️ User:\", templated_user_input)\n",
    "print(\"🤖 Assistant:\", assistant_reply)"
   ]
  }
 ],
 "metadata": {
  "kernelspec": {
   "display_name": ".venv",
   "language": "python",
   "name": "python3"
  },
  "language_info": {
   "codemirror_mode": {
    "name": "ipython",
    "version": 3
   },
   "file_extension": ".py",
   "mimetype": "text/x-python",
   "name": "python",
   "nbconvert_exporter": "python",
   "pygments_lexer": "ipython3",
   "version": "3.11.0rc2"
  }
 },
 "nbformat": 4,
 "nbformat_minor": 5
}
