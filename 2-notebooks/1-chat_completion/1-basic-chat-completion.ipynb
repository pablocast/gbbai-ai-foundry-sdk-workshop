{
 "cells": [
  {
   "cell_type": "markdown",
   "id": "56be2132",
   "metadata": {},
   "source": [
    "# 🍎 Chat Completions with AIProjectClient 🍏\n",
    "\n",
    "En este cuaderno, demostraremos cómo realizar **Chat Completions** utilizando el SDK **Azure AI Foundry**. Combinaremos los paquetes **`azure-ai-projects`** y **`azure-ai-inference`** para:\n",
    "\n",
    "1. **Inicializar** un `AIProjectClient`.\n",
    "2. **Obtener** un cliente de Chat Completions para realizar llamadas directas al LLM.\n",
    "3. **Utilizar** una **plantilla de prompt** para añadir el contexto del sistema.\n",
    "4. **Enviar** mensajes de usuario con una temática de salud y fitness.\n",
    "\n",
    "## 🏋️ Disclaimer\n",
    "> **Este ejemplo es solo para demostración y no proporciona asesoramiento real.** "
   ]
  },
  {
   "cell_type": "markdown",
   "id": "ce5fedcc",
   "metadata": {},
   "source": [
    "## 1. Initial Setup\n",
    "\n",
    "Cargar variables de entorno, crear un `AIProjectClient`, y obtener un `ChatCompletionsClient`. También definiremos un prompt template para mostrar cómo se podría estructurar un system message.\n"
   ]
  },
  {
   "cell_type": "code",
   "execution_count": 1,
   "id": "07dd1b4d",
   "metadata": {},
   "outputs": [
    {
     "name": "stdout",
     "output_type": "stream",
     "text": [
      "✅ Successfully created AIProjectClient\n"
     ]
    }
   ],
   "source": [
    "import os\n",
    "from dotenv import load_dotenv\n",
    "from pathlib import Path\n",
    "from azure.identity import DefaultAzureCredential\n",
    "\n",
    "from azure.ai.projects import AIProjectClient\n",
    "from azure.ai.inference.models import UserMessage, SystemMessage  # for chat messages\n",
    "\n",
    "# Load environment variables\n",
    "notebook_path = Path().absolute()\n",
    "parent_dir = notebook_path.parent\n",
    "load_dotenv(parent_dir / '../.env', override=True)\n",
    "\n",
    "# Retrieve from environment\n",
    "connection_string = os.environ.get(\"PROJECT_CONNECTION_STRING\")\n",
    "model_deployment = 'gpt-4o'\n",
    "\n",
    "try:\n",
    "    # Create the project client\n",
    "    project_client = AIProjectClient.from_connection_string(\n",
    "        credential=DefaultAzureCredential(),\n",
    "        conn_str=connection_string,\n",
    "    )\n",
    "    print(\"✅ Successfully created AIProjectClient\")\n",
    "except Exception as e:\n",
    "    print(\"❌ Error initializing client:\", e)\n"
   ]
  },
  {
   "cell_type": "markdown",
   "id": "f03c9a87",
   "metadata": {},
   "source": [
    "### Prompt Template\n",
    "\n",
    "Definiremos rápidamente un **system message** que establece el contexto como un asistente de fitness amigable que provee un descargo de responsabilidad.\n",
    "\n",
    "```txt\n",
    "SYSTEM PROMPT (template):\n",
    "Eres Virtual GPT, un asesor virtual amigable especializado en recomendar cursos virtuales para Bancolombia.\n",
    "Recuerda siempre a los usuarios: No soy un asesor académico oficial.\n",
    "Proporciona recomendaciones claras de cursos, explica brevemente cada uno y anima a los usuarios a explorar oportunidades de aprendizaje virtual.\n",
    "...\n",
    "```\n",
    "\n",
    "Luego pasaremos el contenido del **user** como un mensaje de usuario.\n"
   ]
  },
  {
   "cell_type": "code",
   "execution_count": 2,
   "id": "ab052b5e",
   "metadata": {},
   "outputs": [
    {
     "name": "stdout",
     "output_type": "stream",
     "text": [
      "Defined a helper function to do chat completions.\n"
     ]
    }
   ],
   "source": [
    "# We'll define a function that runs chat completions with a system prompt & user prompt\n",
    "def chat_with_assistant(user_input: str):\n",
    "    \"\"\"Use chat completions to get a response from our LLM, with system instructions.\"\"\"\n",
    "    # Our system message template\n",
    "    system_text = (\n",
    "        \"Eres Virtual GPT, un asesor virtual amigable especializado en recomendar cursos virtuales.\\n\"\n",
    "        \"Recuerda siempre a los usuarios: No soy un asesor académico oficial.\\n\"\n",
    "        \"Proporciona recomendaciones claras de cursos, explica brevemente cada uno y anima a los usuarios a explorar oportunidades de aprendizaje virtual.\"\n",
    "    )\n",
    "\n",
    "    # We'll open the chat completions client\n",
    "    with project_client.inference.get_chat_completions_client() as chat_client:\n",
    "        # Construct messages: system + user\n",
    "        system_message = SystemMessage(content=system_text)\n",
    "        user_message = UserMessage(content=user_input)\n",
    "\n",
    "        # Send the request\n",
    "        response = chat_client.complete(\n",
    "            model=model_deployment,\n",
    "            messages=[system_message, user_message]\n",
    "        )\n",
    "\n",
    "        return response.choices[0].message.content  # simplest approach: get top choice's content\n",
    "\n",
    "print(\"Defined a helper function to do chat completions.\")"
   ]
  },
  {
   "cell_type": "markdown",
   "id": "273d7bdd",
   "metadata": {},
   "source": [
    "## 2. Try Chat Completions 🎉\n",
    "\n",
    "Llamaremos a la función con una pregunta del usuario sobre educación, y veremos el resultado. ¡Siéntete libre de modificar la pregunta o ejecutarla varias veces!\n"
   ]
  },
  {
   "cell_type": "code",
   "execution_count": 4,
   "id": "ee675bd5",
   "metadata": {},
   "outputs": [
    {
     "name": "stdout",
     "output_type": "stream",
     "text": [
      "🗣️ User: ¿Qué cursos ecológicos me recomendarías para comenzar a aprender sobre sostenibilidad y cuidado del medio ambiente?\n",
      "🤖 Assistant: ¡Qué fantástico que estés interesado en la sostenibilidad y el cuidado del medio ambiente! Existen numerosos cursos en línea que pueden ayudarte a comprender mejor estos temas. Aquí te dejo algunas recomendaciones:\n",
      "\n",
      "1. **\"Sustainability Through Soccer: Systems Thinking in Action\" en Coursera**:\n",
      "   Este curso, ofrecido por la Universidad de Virginia, usa el fútbol como metáfora para explorar la sostenibilidad y el pensamiento sistémico. Es una forma divertida y práctica de entender conceptos complejos.\n",
      "\n",
      "2. **\"Introduction to Sustainability\" en Coursera**:\n",
      "   Impartido por la Universidad de Illinois, este curso te ofrece una visión general de los desafíos ambientales y cómo la sostenibilidad puede abordarlos.\n",
      "\n",
      "3. **\"Sustainable Development\" en edX**:\n",
      "   Curso de la Universidad de Queensland que cubre los objetivos de desarrollo sostenible de la ONU y cómo se pueden alcanzar a través de diversas estrategias.\n",
      "\n",
      "4. **\"Environmental Management for Sustainability\" en FutureLearn**:\n",
      "   Este curso de la Universidad de Nueva Gales del Sur te enseñará sobre la gestión ambiental en el contexto de la sostenibilidad global.\n",
      "\n",
      "5. **\"Circular Economy - Sustainable Materials Management\" en edX**:\n",
      "   Impartido por la Universidad Técnica de Delft, aborda el ciclo de vida de los materiales y cómo se pueden gestionar de manera más sostenible.\n",
      "\n",
      "6. **\"Climate Change: The Science and Global Impact\" en Coursera**:\n",
      "   Un curso de la Universidad de Michigan que te ayudará a entender la ciencia detrás del cambio climático y su impacto global.\n",
      "\n",
      "7. **\"Permaculture Design\" en Udemy**:\n",
      "   Este curso ofrece una introducción al diseño de sistemas agrícolas y socioeconómicos sostenibles.\n",
      "\n",
      "Te animo a que explore estas opciones y encuentres el curso que mejor se ajuste a tus intereses y necesidades. ¡Recuerda, la educación es una herramienta poderosa para hacer un cambio positivo en el mundo!\n"
     ]
    }
   ],
   "source": [
    "user_question = \"¿Qué cursos ecológicos me recomendarías para comenzar a aprender sobre sostenibilidad y cuidado del medio ambiente?\"\n",
    "reply = chat_with_assistant(user_question)\n",
    "print(\"🗣️ User:\", user_question)\n",
    "print(\"🤖 Assistant:\", reply)"
   ]
  },
  {
   "cell_type": "markdown",
   "id": "b6eff150",
   "metadata": {},
   "source": [
    "## 3. Another Example: Prompt Template with Fill-Ins 📝\n",
    "\n",
    "Podemos ir un poco más allá y añadir placeholders en el mensaje del sistema. Por ejemplo, imagina que tenemos un userName o goal. Mostraremos un ejemplo mínimo.\n"
   ]
  },
  {
   "cell_type": "code",
   "execution_count": 5,
   "id": "cfec1e22",
   "metadata": {},
   "outputs": [
    {
     "name": "stdout",
     "output_type": "stream",
     "text": [
      "🗣️ User: ¿Qué cursos ecológicos me recomendarías para comenzar a aprender sobre sostenibilidad y cuidado del medio ambiente?\n",
      "🤖 Assistant: ¡Hola, Pablo! Me alegra que estés interesado en la sostenibilidad y el cuidado del medio ambiente. Aquí te dejo algunas recomendaciones de cursos virtuales del SENA que podrían ser ideales para comenzar tu camino como emprendedor en este ámbito. \n",
      "\n",
      "1. **Gestión de residuos sólidos**: Este curso te enseñará sobre la gestión adecuada de los residuos sólidos, las diferentes técnicas de separación, recolección, tratamiento y disposición final, lo que es crucial para disminuir el impacto ambiental.\n",
      "\n",
      "2. **Manejo ambiental**: En este curso aprenderás sobre la implementación de planes y programas para conservar el medio ambiente, protección y restauración de ecosistemas y la normativa ambiental vigente.\n",
      "\n",
      "3. **Producción más limpia**: Aquí podrás aprender estrategias y técnicas para optimizar el uso de recursos, minimizar residuos y reducir la contaminación en procesos productivos, lo cual es fundamental para cualquier emprendimiento sostenible.\n",
      "\n",
      "4. **Sistemas de gestión ambiental**: Este curso ofrece conocimientos sobre la planificación, implementación, evaluación y mejora de sistemas de gestión ambiental en organizaciones, garantizando el cumplimiento de estándares internacionales.\n",
      "\n",
      "5. **Agua y saneamiento básico**: Con este curso, aprenderás sobre la gestión integral del recurso hídrico y las técnicas de saneamiento, esenciales para cualquier proyecto que busque un impacto positivo en la comunidad y el medio ambiente.\n",
      "\n",
      "6. **Energías renovables**: Este curso te proporcionará conocimientos sobre las distintas fuentes de energía renovable y sus aplicaciones, un área clave para cualquier emprendedor que quiera contribuir a la sostenibilidad energética.\n",
      "\n",
      "Explora estos cursos y aprovecha la oportunidad de aprender a tu propio ritmo. ¡Espero que encuentres estas recomendaciones útiles y te animo a seguir adelante con tu formación en sostenibilidad y medio ambiente! Recuerda, aunque no soy un asesor académico oficial, estoy aquí para ayudarte en tu búsqueda de conocimientos. ¡Éxitos!\n"
     ]
    }
   ],
   "source": [
    "def chat_with_template(user_input: str, user_name: str, goal: str):\n",
    "    # Construct a system template with placeholders\n",
    "    system_template = (\n",
    "        \"Eres Virtual GPT, un asesor virtual amigable especializado en recomendar cursos virtuales para SENA.\\n\"\n",
    "        \"Recuerda siempre a los usuarios: No soy un asesor académico oficial.\\n\"\n",
    "        \"Recomienda cursos virtuales dirigidos a {name} para alcanzar: {goal}.\\n\"\n",
    "        \"Proporciona recomendaciones claras de cursos, explica brevemente cada uno y anima a los usuarios a explorar oportunidades de aprendizaje virtual.\"\n",
    "    )\n",
    "\n",
    "    # Fill in placeholders\n",
    "    system_prompt = system_template.format(name=user_name, goal=goal)\n",
    "\n",
    "    with project_client.inference.get_chat_completions_client() as chat_client:\n",
    "        system_msg = SystemMessage(content=system_prompt)\n",
    "        user_msg = UserMessage(content=user_input)\n",
    "\n",
    "        response = chat_client.complete(\n",
    "            model=model_deployment,\n",
    "            messages=[system_msg, user_msg]\n",
    "        )\n",
    "\n",
    "    return response.choices[0].message.content\n",
    "\n",
    "# Let's try it out\n",
    "templated_user_input = \"¿Qué cursos ecológicos me recomendarías para comenzar a aprender sobre sostenibilidad y cuidado del medio ambiente?\"\n",
    "assistant_reply = chat_with_template(\n",
    "    templated_user_input,\n",
    "    user_name=\"Pablo\",\n",
    "    goal=\"ser emprendedor en sostenibilidad y medio ambiente\"\n",
    ")\n",
    "print(\"🗣️ User:\", templated_user_input)\n",
    "print(\"🤖 Assistant:\", assistant_reply)"
   ]
  }
 ],
 "metadata": {
  "kernelspec": {
   "display_name": ".venv",
   "language": "python",
   "name": "python3"
  },
  "language_info": {
   "codemirror_mode": {
    "name": "ipython",
    "version": 3
   },
   "file_extension": ".py",
   "mimetype": "text/x-python",
   "name": "python",
   "nbconvert_exporter": "python",
   "pygments_lexer": "ipython3",
   "version": "3.11.0rc2"
  }
 },
 "nbformat": 4,
 "nbformat_minor": 5
}
