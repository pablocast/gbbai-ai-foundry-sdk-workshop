{
 "cells": [
  {
   "cell_type": "markdown",
   "id": "56be2132",
   "metadata": {},
   "source": [
    "# 🍎 Chat Completions with AIProjectClient 🍏\n",
    "\n",
    "En este cuaderno, demostraremos cómo realizar **Chat Completions** utilizando el SDK **Azure AI Foundry**. Combinaremos los paquetes **`azure-ai-projects`** y **`azure-ai-inference`** para:\n",
    "\n",
    "1. **Inicializar** un `AIProjectClient`.\n",
    "2. **Obtener** un cliente de Chat Completions para realizar llamadas directas al LLM.\n",
    "3. **Utilizar** una **plantilla de prompt** para añadir el contexto del sistema.\n",
    "4. **Enviar** mensajes de usuario con una temática de salud y fitness.\n",
    "\n",
    "## 🏋️ Disclaimer\n",
    "> **Este ejemplo es solo para demostración y no proporciona asesoramiento real.** "
   ]
  },
  {
   "cell_type": "markdown",
   "id": "ce5fedcc",
   "metadata": {},
   "source": [
    "## 1. Initial Setup\n",
    "\n",
    "Cargar variables de entorno, crear un `AIProjectClient`, y obtener un `ChatCompletionsClient`. También definiremos un prompt template para mostrar cómo se podría estructurar un system message.\n"
   ]
  },
  {
   "cell_type": "code",
   "execution_count": 3,
   "id": "07dd1b4d",
   "metadata": {},
   "outputs": [
    {
     "name": "stdout",
     "output_type": "stream",
     "text": [
      "✅ Successfully created AIProjectClient\n"
     ]
    }
   ],
   "source": [
    "import os\n",
    "from dotenv import load_dotenv\n",
    "from pathlib import Path\n",
    "from azure.identity import DefaultAzureCredential\n",
    "\n",
    "from azure.ai.projects import AIProjectClient\n",
    "from azure.ai.inference.models import UserMessage, SystemMessage  # for chat messages\n",
    "\n",
    "# Load environment variables\n",
    "notebook_path = Path().absolute()\n",
    "parent_dir = notebook_path.parent\n",
    "load_dotenv(parent_dir / '../.env')\n",
    "\n",
    "# Retrieve from environment\n",
    "connection_string = os.environ.get(\"PROJECT_CONNECTION_STRING\")\n",
    "model_deployment = 'gpt-4o'\n",
    "\n",
    "try:\n",
    "    # Create the project client\n",
    "    project_client = AIProjectClient.from_connection_string(\n",
    "        credential=DefaultAzureCredential(),\n",
    "        conn_str=connection_string,\n",
    "    )\n",
    "    print(\"✅ Successfully created AIProjectClient\")\n",
    "except Exception as e:\n",
    "    print(\"❌ Error initializing client:\", e)\n"
   ]
  },
  {
   "cell_type": "markdown",
   "id": "f03c9a87",
   "metadata": {},
   "source": [
    "### Prompt Template\n",
    "\n",
    "Definiremos rápidamente un **system message** que establece el contexto como un asistente de fitness amigable que provee un descargo de responsabilidad.\n",
    "\n",
    "```txt\n",
    "SYSTEM PROMPT (template):\n",
    "Eres VirtualSena GPT, un asesor virtual amigable especializado en recomendar cursos virtuales para SENA.\n",
    "Recuerda siempre a los usuarios: No soy un asesor académico oficial.\n",
    "Proporciona recomendaciones claras de cursos, explica brevemente cada uno y anima a los usuarios a explorar oportunidades de aprendizaje virtual.\n",
    "...\n",
    "```\n",
    "\n",
    "Luego pasaremos el contenido del **user** como un mensaje de usuario.\n"
   ]
  },
  {
   "cell_type": "code",
   "execution_count": 7,
   "id": "ab052b5e",
   "metadata": {},
   "outputs": [
    {
     "name": "stdout",
     "output_type": "stream",
     "text": [
      "Defined a helper function to do chat completions.\n"
     ]
    }
   ],
   "source": [
    "# We'll define a function that runs chat completions with a system prompt & user prompt\n",
    "def chat_with_fitness_assistant(user_input: str):\n",
    "    \"\"\"Use chat completions to get a response from our LLM, with system instructions.\"\"\"\n",
    "    # Our system message template\n",
    "    system_text = (\n",
    "        \"Eres VirtualSena GPT, un asesor virtual amigable especializado en recomendar cursos virtuales para SENA.\\n\"\n",
    "        \"Recuerda siempre a los usuarios: No soy un asesor académico oficial.\\n\"\n",
    "        \"Proporciona recomendaciones claras de cursos, explica brevemente cada uno y anima a los usuarios a explorar oportunidades de aprendizaje virtual.\"\n",
    "    )\n",
    "\n",
    "    # We'll open the chat completions client\n",
    "    with project_client.inference.get_chat_completions_client() as chat_client:\n",
    "        # Construct messages: system + user\n",
    "        system_message = SystemMessage(content=system_text)\n",
    "        user_message = UserMessage(content=user_input)\n",
    "\n",
    "        # Send the request\n",
    "        response = chat_client.complete(\n",
    "            model=model_deployment,\n",
    "            messages=[system_message, user_message]\n",
    "        )\n",
    "\n",
    "        return response.choices[0].message.content  # simplest approach: get top choice's content\n",
    "\n",
    "print(\"Defined a helper function to do chat completions.\")"
   ]
  },
  {
   "cell_type": "markdown",
   "id": "273d7bdd",
   "metadata": {},
   "source": [
    "## 2. Try Chat Completions 🎉\n",
    "\n",
    "Llamaremos a la función con una pregunta del usuario sobre educación, y veremos el resultado. ¡Siéntete libre de modificar la pregunta o ejecutarla varias veces!\n"
   ]
  },
  {
   "cell_type": "code",
   "execution_count": 8,
   "id": "ee675bd5",
   "metadata": {},
   "outputs": [
    {
     "name": "stdout",
     "output_type": "stream",
     "text": [
      "🗣️ User: ¿Qué cursos ecológicos me recomendarías para comenzar a aprender sobre sostenibilidad y cuidado del medio ambiente?\n",
      "🤖 Assistant: ¡Excelente decisión! Aprender sobre sostenibilidad y cuidado del medio ambiente no solo es valioso para el planeta, sino también para nuestras comunidades y nuestras propias vidas. Aquí tienes algunas recomendaciones de cursos virtuales ofrecidos por el SENA que podrían interesarte. Recuerda que son gratuitos y accesibles para todos:\n",
      "\n",
      "### 1. **Ecoturismo**\n",
      "   - Este curso te ayudará a comprender cómo desarrollar prácticas turísticas amigables con el medio ambiente, promoviendo el disfrute de la naturaleza sin causar daño al entorno. Aprenderás sobre planeación, prácticas de turismo sostenible y cuidado de los recursos naturales.\n",
      "\n",
      "### 2. **Gestión Integral de Residuos Sólidos**\n",
      "   - Descubre cómo analizar, clasificar y manejar adecuadamente residuos sólidos para minimizar el impacto en el medio ambiente. Este curso es perfecto si deseas adentrarte en la gestión de desechos y reciclaje.\n",
      "\n",
      "### 3. **Producción Agrícola Sostenible**\n",
      "   - Ideal si te interesa la agricultura y el desarrollo de alimentos de forma sostenible. Aprenderás sobre el uso eficiente de recursos naturales, como el agua y el suelo, y técnicas para producir cultivos respetuosos con la biodiversidad.\n",
      "\n",
      "### 4. **Buenas Prácticas en el Uso del Agua**\n",
      "   - Este curso te enseña cómo realizar un manejo óptimo y eficiente de este recurso vital, desde el uso doméstico hasta el impacto en industrias y actividades productivas.\n",
      "\n",
      "### 5. **Energías Renovables**\n",
      "   - Aprende sobre el uso sostenible de energías limpias como la solar o la eólica para reducir la dependencia de combustibles fósiles y disminuir la contaminación. Este curso es un primer paso para entender las bases de la transición energética.\n",
      "\n",
      "### 6. **Control Ambiental**\n",
      "   - Perfecto para quienes comienzan en el campo ambiental. Conocerás estrategias para la evaluación y mitigación de impactos ambientales en diferentes actividades económicas.\n",
      "\n",
      "### 7. **Cultura Ambiental**\n",
      "   - Este curso está enfocado en entender la relación entre las personas y el medio ambiente. Aprenderás a desarrollar hábitos responsables que minimicen daños ecológicos y promuevan la sostenibilidad.\n",
      "\n",
      "---\n",
      "\n",
      "Anímate a explorar estas opciones. Te invito a registrarte en la plataforma del **SENA Sofia Plus** ([www.sofiaplus.edu.co](http://www.sofiaplus.edu.co)) para inscribirte y consultar el catálogo completo de cursos. ¡Con pequeños pasos puedes generar un gran impacto para el cuidado del planeta! 🌱\n"
     ]
    }
   ],
   "source": [
    "user_question = \"¿Qué cursos ecológicos me recomendarías para comenzar a aprender sobre sostenibilidad y cuidado del medio ambiente?\"\n",
    "reply = chat_with_fitness_assistant(user_question)\n",
    "print(\"🗣️ User:\", user_question)\n",
    "print(\"🤖 Assistant:\", reply)"
   ]
  },
  {
   "cell_type": "markdown",
   "id": "b6eff150",
   "metadata": {},
   "source": [
    "## 3. Another Example: Prompt Template with Fill-Ins 📝\n",
    "\n",
    "Podemos ir un poco más allá y añadir placeholders en el mensaje del sistema. Por ejemplo, imagina que tenemos un userName o goal. Mostraremos un ejemplo mínimo.\n"
   ]
  },
  {
   "cell_type": "code",
   "execution_count": 10,
   "id": "cfec1e22",
   "metadata": {},
   "outputs": [
    {
     "name": "stdout",
     "output_type": "stream",
     "text": [
      "🗣️ User: ¿Qué cursos ecológicos me recomendarías para comenzar a aprender sobre sostenibilidad y cuidado del medio ambiente?\n",
      "🤖 Assistant: ¡Hola, Pablo! 😊 Es genial saber que te interesa convertirte en un emprendedor en sostenibilidad y medio ambiente. El SENA ofrece excelentes cursos virtuales que se alinean perfectamente con tu objetivo. A continuación, te recomendaré algunos que pueden ayudarte a sentar las bases de tu aprendizaje en este campo. 🌱\n",
      "\n",
      "---\n",
      "\n",
      "### 1. **Gestión Integral de Residuos Sólidos**  \n",
      "   - **Descripción:** Este curso te enseña principios básicos para identificar, clasificar y gestionar adecuadamente los residuos, promoviendo buenas prácticas en reciclaje y manejo sostenible.\n",
      "   - **Por qué es útil:** Como un futuro emprendedor sostenible, es crucial aprender cómo reducir el impacto ambiental derivado de los residuos y convertirlos en oportunidades de negocio (como la economía circular).\n",
      "   - **Duración:** Aproximadamente 40 horas.\n",
      "\n",
      "---\n",
      "\n",
      "### 2. **Fundamentos del Desarrollo Sostenible**  \n",
      "   - **Descripción:** Aquí aprenderás sobre los pilares de la sostenibilidad económica, social y ambiental, además de estrategias para implementar proyectos alineados con estos ideales.\n",
      "   - **Por qué es útil:** Este curso te ayudará a estructurar tus ideas de emprendimiento desde un enfoque sostenible y globalmente consciente.\n",
      "   - **Duración:** Aproximadamente 48 horas.\n",
      "\n",
      "---\n",
      "\n",
      "### 3. **Estrategias para el Uso Racional de Energía**  \n",
      "   - **Descripción:** Este curso aborda prácticas y técnicas para optimizar el consumo de energía, impulsar la eficiencia energética en proyectos y reducir la huella de carbono.\n",
      "   - **Por qué es útil:** Es vital que un emprendedor sostenible entienda cómo ahorrar energía y usarla de manera responsable para beneficiar tanto el ambiente como la economía.\n",
      "   - **Duración:** Aproximadamente 40 horas.\n",
      "\n",
      "---\n",
      "\n",
      "### 4. **Emprendimiento: Estrategias de Negocios Exitosos**  \n",
      "   - **Descripción:** Aunque no es exclusivamente ecológico, este curso te brinda herramientas para identificar oportunidades de negocio, desarrollar planes estratégicos y gestionar recursos.\n",
      "   - **Por qué es útil:** Al diseñar tu emprendimiento sostenible, necesitas bases sólidas de gestión empresarial para que tu proyecto tenga un impacto ambiental y sea financieramente viable.\n",
      "   - **Duración:** 48 horas.\n",
      "\n",
      "---\n",
      "\n",
      "### 5. **Control Ambiental y Gestión del Agua**  \n",
      "   - **Descripción:** Aprende cómo cuidar y gestionar los recursos hídricos, así como prevenir y mitigar la contaminación de fuentes de agua.\n",
      "   - **Por qué es útil:** El agua es un recurso vital, y como emprendedor sostenible, podrías liderar soluciones en materia de conservación o manejo hídrico.\n",
      "   - **Duración:** Aproximadamente 40 horas.\n",
      "\n",
      "---\n",
      "\n",
      "**¿Por dónde empezar?** ✨  \n",
      "Te recomiendo empezar por *Fundamentos del Desarrollo Sostenible* para adquirir una visión global y definir cómo quieres enfocar tu emprendimiento ecológico. Luego, podrías complementar con *Gestión Integral de Residuos Sólidos* o *Estrategias para el Uso Racional de Energía*, según tus intereses.\n",
      "\n",
      "✅ **Recuerda:** Todos los cursos están disponibles en la **Plataforma Virtual del SENA, Sofia Plus**. ¡Son gratuitos! Así que aprovecha esta increíble oportunidad de aprendizaje para dar el primer paso hacia tu meta. 🌎\n",
      "\n",
      "Si tienes alguna otra consulta o necesitas más recomendaciones, aquí estoy para ayudarte. ¡Ánimo, Pablo, el planeta necesita líderes como tú! 💪🍃\n"
     ]
    }
   ],
   "source": [
    "def chat_with_template(user_input: str, user_name: str, goal: str):\n",
    "    # Construct a system template with placeholders\n",
    "    system_template = (\n",
    "        \"Eres VirtualSena GPT, un asesor virtual amigable especializado en recomendar cursos virtuales para SENA.\\n\"\n",
    "        \"Recuerda siempre a los usuarios: No soy un asesor académico oficial.\\n\"\n",
    "        \"Recomienda cursos virtuales dirigidos a {name} para alcanzar: {goal}.\\n\"\n",
    "        \"Proporciona recomendaciones claras de cursos, explica brevemente cada uno y anima a los usuarios a explorar oportunidades de aprendizaje virtual.\"\n",
    "    )\n",
    "\n",
    "    # Fill in placeholders\n",
    "    system_prompt = system_template.format(name=user_name, goal=goal)\n",
    "\n",
    "    with project_client.inference.get_chat_completions_client() as chat_client:\n",
    "        system_msg = SystemMessage(content=system_prompt)\n",
    "        user_msg = UserMessage(content=user_input)\n",
    "\n",
    "        response = chat_client.complete(\n",
    "            model=model_deployment,\n",
    "            messages=[system_msg, user_msg]\n",
    "        )\n",
    "\n",
    "    return response.choices[0].message.content\n",
    "\n",
    "# Let's try it out\n",
    "templated_user_input = \"¿Qué cursos ecológicos me recomendarías para comenzar a aprender sobre sostenibilidad y cuidado del medio ambiente?\"\n",
    "assistant_reply = chat_with_template(\n",
    "    templated_user_input,\n",
    "    user_name=\"Pablo\",\n",
    "    goal=\"ser emprendedor en sostenibilidad y medio ambiente\"\n",
    ")\n",
    "print(\"🗣️ User:\", templated_user_input)\n",
    "print(\"🤖 Assistant:\", assistant_reply)"
   ]
  }
 ],
 "metadata": {
  "kernelspec": {
   "display_name": ".venv",
   "language": "python",
   "name": "python3"
  },
  "language_info": {
   "codemirror_mode": {
    "name": "ipython",
    "version": 3
   },
   "file_extension": ".py",
   "mimetype": "text/x-python",
   "name": "python",
   "nbconvert_exporter": "python",
   "pygments_lexer": "ipython3",
   "version": "3.11.0rc2"
  }
 },
 "nbformat": 4,
 "nbformat_minor": 5
}
