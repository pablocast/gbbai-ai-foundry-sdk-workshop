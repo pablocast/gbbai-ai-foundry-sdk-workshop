{
  "cells": [
    {
      "cell_type": "markdown",
      "id": "1e99a5b8",
      "metadata": {},
      "source": [
        "# 🍎 Modelo Phi-4 con AIProjectClient 🍏\n",
        "\n",
        "**Phi-4** es un modelo abierto de próxima generación que tiene como objetivo proporcionar capacidades cercanas a GPT-4 a una fracción del costo, haciéndolo ideal para muchos casos de uso empresariales o personales. Es especialmente excelente para chain-of-thought reasoning y escenarios de RAG (Retrieval Augmented Generation).\n",
        "\n",
        "En este notebook, verás cómo:\n",
        "1. **Inicializar** un `AIProjectClient` para tu entorno de Azure AI Foundry.\n",
        "2. **Chatear** con el modelo **Phi-4** usando `azure-ai-inference`.\n",
        "3. **Mostrar** un ejemplo de educación\n",
        "4. **Disfrutar** de la propuesta de valor de una alternativa más económica a GPT-4, con fuertes capacidades de razonamiento. 🏋️\n",
        "\n",
        "> **Disclaimer**: Esto no es un consejo médico. Por favor, consulta a profesionales.\n",
        "\n",
        "## ¿Por qué Phi-4?\n",
        "Phi-4 es un modelo de 14B parámetros entrenado en datos curados para un alto rendimiento en razonamiento.\n",
        "- **Rentable**: Obtén rendimiento a nivel GPT-4 para muchas tareas sin el precio de GPT-4.\n",
        "- **Razonamiento & RAG**: Perfecto para pasos de chain-of-thought reasoning y flujos de trabajo de retrieval augmented generation.\n",
        "- **Ventana de contexto generosa**: 16K tokens, lo que permite más contexto o conversaciones de usuario más largas.\n"
      ]
    },
    {
      "cell_type": "markdown",
      "id": "e93357dd",
      "metadata": {},
      "source": [
        "## 1. Setup\n",
        "\n",
        "Importar la libreria\n",
        "- **azure-ai-projects**: para el `AIProjectClient`.\n",
        "- **azure-ai-inference**: para llamar los modelos\n",
        "- **azure-identity**: para `DefaultAzureCredential`.\n",
        "\n",
        "Proporciona un archivo `.env` con:\n",
        "```bash\n",
        "PROJECT_CONNECTION_STRING=<your-conn-string>\n",
        "```"
      ]
    },
    {
      "cell_type": "code",
      "execution_count": 1,
      "id": "8b5634a0",
      "metadata": {},
      "outputs": [
        {
          "name": "stdout",
          "output_type": "stream",
          "text": [
            "✅ AIProjectClient created successfully!\n"
          ]
        }
      ],
      "source": [
        "import os\n",
        "from dotenv import load_dotenv\n",
        "from pathlib import Path\n",
        "from azure.identity import DefaultAzureCredential\n",
        "from azure.ai.projects import AIProjectClient\n",
        "from azure.ai.inference.models import SystemMessage, UserMessage, AssistantMessage\n",
        "\n",
        "from pathlib import Path\n",
        "\n",
        "# Load environment variables\n",
        "notebook_path = Path().absolute()\n",
        "parent_dir = notebook_path.parent\n",
        "load_dotenv(parent_dir / '../.env', override=True)\n",
        "\n",
        "conn_string = os.getenv(\"PROJECT_CONNECTION_STRING\")\n",
        "phi4_deployment = \"phi-4\"\n",
        "\n",
        "try:\n",
        "    project_client = AIProjectClient.from_connection_string(\n",
        "        credential=DefaultAzureCredential(),\n",
        "        conn_str=conn_string,\n",
        "    )\n",
        "    print(\"✅ AIProjectClient created successfully!\")\n",
        "except Exception as e:\n",
        "    print(\"❌ Error creating AIProjectClient:\", e)"
      ]
    },
    {
      "cell_type": "markdown",
      "id": "500d63ef",
      "metadata": {},
      "source": [
        "## 2. Chat with Phi-4 🍏\n",
        "Demostraremos una conversación simple utilizando Phi-4 en un contexto de educación. Definiremos un mensaje del sistema que aclare el rol del asistente. Luego haremos algunas consultas de usuario.\n",
        "\n",
        "> Nota: Phi-4 es muy adecuado para el razonamiento paso a paso. Permitiremos que ilustre sus pasos de razonamiento por diversión.\n",
        "\n"
      ]
    },
    {
      "cell_type": "code",
      "execution_count": 2,
      "id": "0bcc4772",
      "metadata": {},
      "outputs": [
        {
          "name": "stdout",
          "output_type": "stream",
          "text": [
            "🗣️ User: Estoy buscando recomendaciones de cursos virtuales para enriquecer mi educación. ¿Podrías sugerirme algunos cursos y explicar brevemente de qué se tratan?\n",
            "🤖 Phi-4: ¡Por supuesto! Aquí tienes algunas recomendaciones de cursos virtuales que podrían interesarte. Estos cursos están diseñados para cubrir una variedad de áreas y habilidades, permitiéndote elegir según tus intereses y necesidades de aprendizaje. Recuerda que no soy un asesor académico oficial, así que te animo a explorar cada uno y ver cuál se adapta mejor a tus objetivos.\n",
            "\n",
            "1. **Programación y Tecnología de la Información:**\n",
            "   - **Curso de Introducción a la Programación con Python:** Este curso ofrece una introducción al lenguaje de programación Python, una herramienta versátil utilizada en ciencia de datos, desarrollo web y automatización. Aprenderás conceptos básicos como variables, estructuras de control y funciones.\n",
            "   - **Desarrollo Web Básico:** Ideal para aquellos interesados en crear sitios web. Este curso cubre HTML, CSS y JavaScript, los tres pilares de la web, enseñando cómo estructurar, diseñar y añadir funcionalidad a un sitio web.\n",
            "\n",
            "2. **Negocios y Administración:**\n",
            "   - **Fundamentos de Gestión de Proyectos:** Aprende cómo planificar, ejecutar y concluir proyectos de manera efectiva. Este curso cubre técnicas de gestión de proyectos, liderazgo y comunicación.\n",
            "   - **Marketing Digital para Principiantes:** Descubre cómo crear y ejecutar campañas de marketing en línea, utilizando herramientas como SEO, redes sociales y análisis de datos para aumentar el alcance y la eficacia.\n",
            "\n",
            "3. **Diseño y Creatividad:**\n",
            "   - **Diseño Gráfico con Canva:** Aprende a usar Canva, una herramienta de diseño gráfico intuitiva, para crear presentaciones, infografías y materiales de\n"
          ]
        }
      ],
      "source": [
        "def chat_with_phi4(user_question, chain_of_thought=False):\n",
        "    \"\"\"Send a chat request to the Phi-4 model with optional chain-of-thought.\"\"\"\n",
        "    # We'll define a system message with disclaimers:\n",
        "    system_prompt = (\n",
        "        \"Eres Virtual GPT, un asesor virtual amigable especializado en recomendar cursos virtuales para SENA.\\n\"\n",
        "        \"Recuerda siempre a los usuarios: No soy un asesor académico oficial.\\n\"\n",
        "        \"Proporciona recomendaciones claras de cursos, explica brevemente cada uno y anima a los usuarios a explorar oportunidades de aprendizaje virtual.\"\n",
        "    )\n",
        "\n",
        "    # We can optionally instruct the model to show chain-of-thought. (Use carefully in production.)\n",
        "    if chain_of_thought:\n",
        "        system_prompt += \"Por favor, muestra tu razonamiento paso a paso en tu respuesta.\\n\"\n",
        "\n",
        "    # We create messages for system + user.\n",
        "    system_msg = SystemMessage(content=system_prompt)\n",
        "    user_msg = UserMessage(content=user_question)\n",
        "\n",
        "    with project_client.inference.get_chat_completions_client() as chat_client:\n",
        "        response = chat_client.complete(\n",
        "            model=phi4_deployment,\n",
        "            messages=[system_msg, user_msg],\n",
        "            temperature=0.8,  # a bit creative\n",
        "            top_p=0.9,\n",
        "            max_tokens=400,\n",
        "        )\n",
        "\n",
        "    return response.choices[0].message.content\n",
        "\n",
        "# Example usage:\n",
        "question = \"Estoy buscando recomendaciones de cursos virtuales para enriquecer mi educación. ¿Podrías sugerirme algunos cursos y explicar brevemente de qué se tratan?\"\n",
        "answer = chat_with_phi4(question, chain_of_thought=True)\n",
        "print(\"🗣️ User:\", question)\n",
        "print(\"🤖 Phi-4:\", answer)"
      ]
    },
    {
      "cell_type": "markdown",
      "id": "bc68c40d",
      "metadata": {},
      "source": [
        "## 3. RAG-like Example (Stub)\n",
        "Phi-4 también se destaca en escenarios de generación aumentada por recuperación, donde proporcionas contexto externo y permites que el modelo razone sobre ello. A continuación se muestra un ejemplo stub que ilustra cómo pasar el texto recuperado como contexto.\n",
        "\n",
        "> En un escenario real, insertarías y buscarías pasajes relevantes, y luego los alimentarías en el mensaje de usuario/sistema.\n"
      ]
    },
    {
      "cell_type": "code",
      "execution_count": 3,
      "id": "419ea578",
      "metadata": {},
      "outputs": [
        {
          "name": "stdout",
          "output_type": "stream",
          "text": [
            "🗣️ User: ¿Que cursos ofreces relacionados con ecologia?\n",
            "🤖 Phi-4 (RAG): ¡Claro! Aquí tienes algunas recomendaciones de cursos relacionados con la ecología, basadas en el contexto que proporcionaste:\n",
            "\n",
            "1. **Acciones para conservación, protección y restauración de sistemas ecológicos**:\n",
            "   - Este curso probablemente se centra en estrategias prácticas y teóricas para la conservación y restauración de ecosistemas. Podrías aprender sobre la importancia de la biodiversidad, métodos de restauración ecológica y políticas de conservación.\n",
            "\n",
            "2. **Cursos generales de ecología**:\n",
            "   - Busca cursos que cubran temas como ecología de poblaciones, ecología de comunidades, ecología de ecosistemas y ecología global. Estos cursos te proporcionarán una base sólida en los principios fundamentales de la ecología.\n",
            "\n",
            "3. **Cursos especializados en áreas específicas de la ecología**:\n",
            "   - Considera cursos que se centren en áreas específicas como ecología marina, ecología forestal, ecología urbana o ecología de la conservación. Estos cursos suelen ofrecer un enfoque más profundo en temas específicos.\n",
            "\n",
            "4. **Cursos de ciencias ambientales**:\n",
            "   - Estos cursos suelen abarcar una amplia gama de temas relacionados con la ecología, como el cambio climático, la gestión\n"
          ]
        }
      ],
      "source": [
        "def chat_with_phi4_rag(user_question, retrieved_doc):\n",
        "    \"\"\"Simulate an RAG flow by appending retrieved context to the system prompt.\"\"\"\n",
        "    system_prompt = (\n",
        "        \"Eres Virtual GPT, un asesor virtual amigable especializado en recomendar cursos virtuales.\\n\"\n",
        "        \"Recuerda siempre a los usuarios: No soy un asesor académico oficial.\\n\"\n",
        "        \"Proporciona recomendaciones claras de cursos, explica brevemente cada uno y anima a los usuarios a explorar oportunidades de aprendizaje virtual.\\n\"\n",
        "        \"Tenemos algunos datos de la base de conocimientos del usuario: \\n\"\n",
        "        f\"{retrieved_doc}\\n\"\n",
        "        \"Por favor, utiliza este contexto para ayudar en tu respuesta. Si el contexto no ayuda, dilo.\\n\"\n",
        "    )\n",
        "    \n",
        "\n",
        "    system_msg = SystemMessage(content=system_prompt)\n",
        "    user_msg = UserMessage(content=user_question)\n",
        "\n",
        "    with project_client.inference.get_chat_completions_client() as chat_client:\n",
        "        response = chat_client.complete(\n",
        "            model=phi4_deployment,\n",
        "            messages=[system_msg, user_msg],\n",
        "            temperature=0.3,\n",
        "            max_tokens=300,\n",
        "        )\n",
        "    return response.choices[0].message.content\n",
        "\n",
        "# Let's define a dummy doc snippet:\n",
        "doc_snippet = \"Administracion de Recursos Humanos\\n\" \\\n",
        "              \"Administracion de Recursos de M365\\n\" \\\n",
        "              \"Acciones para conservación, protección y restauración de sistemas ecológicos\\n\" \t\n",
        "\n",
        "user_q = \"¿Que cursos ofreces relacionados con ecologia?\"\n",
        "rag_answer = chat_with_phi4_rag(user_q, doc_snippet)\n",
        "print(\"🗣️ User:\", user_q)\n",
        "print(\"🤖 Phi-4 (RAG):\", rag_answer)"
      ]
    }
  ],
  "metadata": {
    "kernelspec": {
      "display_name": ".venv",
      "language": "python",
      "name": "python3"
    },
    "language_info": {
      "codemirror_mode": {
        "name": "ipython",
        "version": 3
      },
      "file_extension": ".py",
      "mimetype": "text/x-python",
      "name": "python",
      "nbconvert_exporter": "python",
      "pygments_lexer": "ipython3",
      "version": "3.11.0rc2"
    }
  },
  "nbformat": 4,
  "nbformat_minor": 5
}
