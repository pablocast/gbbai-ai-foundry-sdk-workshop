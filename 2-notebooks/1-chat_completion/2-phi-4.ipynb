{
  "cells": [
    {
      "cell_type": "markdown",
      "id": "1e99a5b8",
      "metadata": {},
      "source": [
        "# 🍎 Modelo Phi-4 con AIProjectClient 🍏\n",
        "\n",
        "**Phi-4** es un modelo abierto de próxima generación que tiene como objetivo proporcionar capacidades cercanas a GPT-4 a una fracción del costo, haciéndolo ideal para muchos casos de uso empresariales o personales. Es especialmente excelente para chain-of-thought reasoning y escenarios de RAG (Retrieval Augmented Generation).\n",
        "\n",
        "En este notebook, verás cómo:\n",
        "1. **Inicializar** un `AIProjectClient` para tu entorno de Azure AI Foundry.\n",
        "2. **Chatear** con el modelo **Phi-4** usando `azure-ai-inference`.\n",
        "3. **Mostrar** un ejemplo de educación\n",
        "4. **Disfrutar** de la propuesta de valor de una alternativa más económica a GPT-4, con fuertes capacidades de razonamiento. 🏋️\n",
        "\n",
        "> **Disclaimer**: Esto no es un consejo médico. Por favor, consulta a profesionales.\n",
        "\n",
        "## ¿Por qué Phi-4?\n",
        "Phi-4 es un modelo de 14B parámetros entrenado en datos curados para un alto rendimiento en razonamiento.\n",
        "- **Rentable**: Obtén rendimiento a nivel GPT-4 para muchas tareas sin el precio de GPT-4.\n",
        "- **Razonamiento & RAG**: Perfecto para pasos de chain-of-thought reasoning y flujos de trabajo de retrieval augmented generation.\n",
        "- **Ventana de contexto generosa**: 16K tokens, lo que permite más contexto o conversaciones de usuario más largas.\n"
      ]
    },
    {
      "cell_type": "markdown",
      "id": "e93357dd",
      "metadata": {},
      "source": [
        "## 1. Setup\n",
        "\n",
        "Importar la libreria\n",
        "- **azure-ai-projects**: para el `AIProjectClient`.\n",
        "- **azure-ai-inference**: para llamar los modelos\n",
        "- **azure-identity**: para `DefaultAzureCredential`.\n",
        "\n",
        "Proporciona un archivo `.env` con:\n",
        "```bash\n",
        "PROJECT_CONNECTION_STRING=<your-conn-string>\n",
        "```"
      ]
    },
    {
      "cell_type": "code",
      "execution_count": 1,
      "id": "8b5634a0",
      "metadata": {},
      "outputs": [
        {
          "name": "stdout",
          "output_type": "stream",
          "text": [
            "✅ AIProjectClient created successfully!\n"
          ]
        }
      ],
      "source": [
        "import os\n",
        "from dotenv import load_dotenv\n",
        "from pathlib import Path\n",
        "from azure.identity import DefaultAzureCredential\n",
        "from azure.ai.projects import AIProjectClient\n",
        "from azure.ai.inference.models import SystemMessage, UserMessage, AssistantMessage\n",
        "\n",
        "from pathlib import Path\n",
        "\n",
        "# Load environment variables\n",
        "notebook_path = Path().absolute()\n",
        "parent_dir = notebook_path.parent\n",
        "load_dotenv(parent_dir / '../.env', override=True)\n",
        "\n",
        "conn_string = os.getenv(\"PROJECT_CONNECTION_STRING\")\n",
        "phi4_deployment = \"phi-4\"\n",
        "\n",
        "try:\n",
        "    project_client = AIProjectClient.from_connection_string(\n",
        "        credential=DefaultAzureCredential(),\n",
        "        conn_str=conn_string,\n",
        "    )\n",
        "    print(\"✅ AIProjectClient created successfully!\")\n",
        "except Exception as e:\n",
        "    print(\"❌ Error creating AIProjectClient:\", e)"
      ]
    },
    {
      "cell_type": "markdown",
      "id": "500d63ef",
      "metadata": {},
      "source": [
        "## 2. Chat with Phi-4 🍏\n",
        "Demostraremos una conversación simple utilizando Phi-4 en un contexto de educación. Definiremos un mensaje del sistema que aclare el rol del asistente. Luego haremos algunas consultas de usuario.\n",
        "\n",
        "> Nota: Phi-4 es muy adecuado para el razonamiento paso a paso. Permitiremos que ilustre sus pasos de razonamiento por diversión.\n",
        "\n"
      ]
    },
    {
      "cell_type": "code",
      "execution_count": 2,
      "id": "0bcc4772",
      "metadata": {},
      "outputs": [
        {
          "name": "stdout",
          "output_type": "stream",
          "text": [
            "🗣️ User: Estoy buscando recomendaciones de cursos virtuales para enriquecer mi educación. ¿Podrías sugerirme algunos cursos y explicar brevemente de qué se tratan?\n",
            "🤖 Phi-4: ¡Por supuesto! Aquí tienes algunas recomendaciones de cursos virtuales que podrían enriquecer tu educación. Estos cursos cubren una variedad de áreas, desde tecnología y programación hasta negocios y habilidades personales. No soy un asesor académico oficial, así que te recomiendo explorar más a fondo cada uno para ver cuál se adapta mejor a tus intereses y necesidades.\n",
            "\n",
            "1. **Introducción a la Programación con Python (SENA)**\n",
            "   - **Descripción:** Este curso ofrece una introducción a la programación utilizando el lenguaje Python, que es popular por su simplicidad y versatilidad. Aprenderás conceptos básicos como variables, estructuras de control, y funciones, y te familiarizarás con aplicaciones prácticas del lenguaje.\n",
            "   - **Por qué considerarlo:** Python es una herramienta esencial en campos como el desarrollo web, ciencia de datos y aprendizaje automático.\n",
            "\n",
            "2. **Marketing Digital Básico (SENA)**\n",
            "   - **Descripción:** Este curso te introduce al marketing digital, cubriendo temas como SEO, redes sociales, email marketing y análisis web. Aprenderás a crear estrategias de marketing efectivas para mejorar la presencia en línea de una marca o negocio.\n",
            "   - **Por qué considerarlo:** El marketing digital es crucial para negocios modernos y puede ayudarte a construir habilidades valiosas en marketing y comunicación.\n",
            "\n",
            "3. **Administración de Proyectos (SENA)**\n",
            "   - **Descripción:** Este curso te enseña los principios y herramientas de la gestión de proyectos, incluyendo planificación, ejecución y seguimiento. Cubre metodologías como Agile y Scrum.\n",
            "   - **Por qué considerarlo:** La gestión de proyectos es una habilidad clave en cualquier industria y\n"
          ]
        }
      ],
      "source": [
        "def chat_with_phi4(user_question, chain_of_thought=False):\n",
        "    \"\"\"Send a chat request to the Phi-4 model with optional chain-of-thought.\"\"\"\n",
        "    # We'll define a system message with disclaimers:\n",
        "    system_prompt = (\n",
        "        \"Eres Virtual GPT, un asesor virtual amigable especializado en recomendar cursos virtuales para SENA.\\n\"\n",
        "        \"Recuerda siempre a los usuarios: No soy un asesor académico oficial.\\n\"\n",
        "        \"Proporciona recomendaciones claras de cursos, explica brevemente cada uno y anima a los usuarios a explorar oportunidades de aprendizaje virtual.\"\n",
        "    )\n",
        "\n",
        "    # We can optionally instruct the model to show chain-of-thought. (Use carefully in production.)\n",
        "    if chain_of_thought:\n",
        "        system_prompt += \"Por favor, muestra tu razonamiento paso a paso en tu respuesta.\\n\"\n",
        "\n",
        "    # We create messages for system + user.\n",
        "    system_msg = SystemMessage(content=system_prompt)\n",
        "    user_msg = UserMessage(content=user_question)\n",
        "\n",
        "    with project_client.inference.get_chat_completions_client() as chat_client:\n",
        "        response = chat_client.complete(\n",
        "            model=phi4_deployment,\n",
        "            messages=[system_msg, user_msg],\n",
        "            temperature=0.8,  # a bit creative\n",
        "            top_p=0.9,\n",
        "            max_tokens=400,\n",
        "        )\n",
        "\n",
        "    return response.choices[0].message.content\n",
        "\n",
        "# Example usage:\n",
        "question = \"Estoy buscando recomendaciones de cursos virtuales para enriquecer mi educación. ¿Podrías sugerirme algunos cursos y explicar brevemente de qué se tratan?\"\n",
        "answer = chat_with_phi4(question, chain_of_thought=True)\n",
        "print(\"🗣️ User:\", question)\n",
        "print(\"🤖 Phi-4:\", answer)"
      ]
    },
    {
      "cell_type": "markdown",
      "id": "bc68c40d",
      "metadata": {},
      "source": [
        "## 3. RAG-like Example (Stub)\n",
        "Phi-4 también se destaca en escenarios de generación aumentada por recuperación, donde proporcionas contexto externo y permites que el modelo razone sobre ello. A continuación se muestra un ejemplo stub que ilustra cómo pasar el texto recuperado como contexto.\n",
        "\n",
        "> En un escenario real, insertarías y buscarías pasajes relevantes, y luego los alimentarías en el mensaje de usuario/sistema.\n"
      ]
    },
    {
      "cell_type": "code",
      "execution_count": 3,
      "id": "419ea578",
      "metadata": {},
      "outputs": [
        {
          "name": "stdout",
          "output_type": "stream",
          "text": [
            "🗣️ User: ¿Que cursos ofreces relacionados con ecologia?\n",
            "🤖 Phi-4 (RAG): ¡Claro! Aquí tienes algunas recomendaciones de cursos relacionados con la ecología, basadas en tu interés en la conservación, protección y restauración de sistemas ecológicos:\n",
            "\n",
            "1. **Conservación y Restauración Ecológica**:\n",
            "   - **Descripción**: Este curso te introduce a las estrategias y técnicas para la conservación y restauración de ecosistemas. Aprenderás sobre la importancia de mantener la biodiversidad y cómo restaurar hábitats dañados.\n",
            "   - **Plataforma**: Coursera, edX, o FutureLearn.\n",
            "   - **Recomendación**: Explora cursos ofrecidos por universidades reconocidas como la Universidad de Yale o la Universidad de Stanford.\n",
            "\n",
            "2. **Ecología y Gestión de Recursos Naturales**:\n",
            "   - **Descripción**: Enfocado en el manejo sostenible de los recursos naturales, este curso cubre temas como la gestión de tierras, aguas y biodiversidad.\n",
            "   - **Plataforma**: Udemy, Coursera.\n",
            "   - **Recomendación**: Busca cursos que incluyan estudios de caso prácticos para entender mejor las aplicaciones en el mundo real.\n",
            "\n",
            "3. **Cambio Climático y Ecología**:\n",
            "   - **Descripción**: Este curso aborda el impacto del cambio climático en los ecosist\n"
          ]
        }
      ],
      "source": [
        "def chat_with_phi4_rag(user_question, retrieved_doc):\n",
        "    \"\"\"Simulate an RAG flow by appending retrieved context to the system prompt.\"\"\"\n",
        "    system_prompt = (\n",
        "        \"Eres Virtual GPT, un asesor virtual amigable especializado en recomendar cursos virtuales.\\n\"\n",
        "        \"Recuerda siempre a los usuarios: No soy un asesor académico oficial.\\n\"\n",
        "        \"Proporciona recomendaciones claras de cursos, explica brevemente cada uno y anima a los usuarios a explorar oportunidades de aprendizaje virtual.\\n\"\n",
        "        \"Tenemos algunos datos de la base de conocimientos del usuario: \\n\"\n",
        "        f\"{retrieved_doc}\\n\"\n",
        "        \"Por favor, utiliza este contexto para ayudar en tu respuesta. Si el contexto no ayuda, dilo.\\n\"\n",
        "    )\n",
        "    \n",
        "\n",
        "    system_msg = SystemMessage(content=system_prompt)\n",
        "    user_msg = UserMessage(content=user_question)\n",
        "\n",
        "    with project_client.inference.get_chat_completions_client() as chat_client:\n",
        "        response = chat_client.complete(\n",
        "            model=phi4_deployment,\n",
        "            messages=[system_msg, user_msg],\n",
        "            temperature=0.3,\n",
        "            max_tokens=300,\n",
        "        )\n",
        "    return response.choices[0].message.content\n",
        "\n",
        "# Let's define a dummy doc snippet:\n",
        "doc_snippet = \"Administracion de Recursos Humanos\\n\" \\\n",
        "              \"Administracion de Recursos de M365\\n\" \\\n",
        "              \"Acciones para conservación, protección y restauración de sistemas ecológicos\\n\" \t\n",
        "\n",
        "user_q = \"¿Que cursos ofreces relacionados con ecologia?\"\n",
        "rag_answer = chat_with_phi4_rag(user_q, doc_snippet)\n",
        "print(\"🗣️ User:\", user_q)\n",
        "print(\"🤖 Phi-4 (RAG):\", rag_answer)"
      ]
    }
  ],
  "metadata": {
    "kernelspec": {
      "display_name": ".venv",
      "language": "python",
      "name": "python3"
    },
    "language_info": {
      "codemirror_mode": {
        "name": "ipython",
        "version": 3
      },
      "file_extension": ".py",
      "mimetype": "text/x-python",
      "name": "python",
      "nbconvert_exporter": "python",
      "pygments_lexer": "ipython3",
      "version": "3.11.0rc2"
    }
  },
  "nbformat": 4,
  "nbformat_minor": 5
}
