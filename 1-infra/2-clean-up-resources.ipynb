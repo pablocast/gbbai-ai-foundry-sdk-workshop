{
 "cells": [
  {
   "cell_type": "markdown",
   "metadata": {},
   "source": [
    "### 🗑️ Clean up resources\n",
    "\n",
    "When you're finished with the lab, you should remove all your deployed resources from Azure to avoid extra charges and keep your Azure subscription uncluttered."
   ]
  },
  {
   "cell_type": "code",
   "execution_count": 2,
   "metadata": {},
   "outputs": [
    {
     "name": "stdout",
     "output_type": "stream",
     "text": [
      "👉🏽 \u001b[1;34m🧹 Cleaning up resource group 'lab-ai-foundry'...\u001b[0m\n",
      "⚙️ \u001b[1;34mRunning: az deployment group show --name ai-foundry -g lab-ai-foundry -o json \u001b[0m\n",
      "⛔ \u001b[1;31mFailed to retrieve the deployment\u001b[0m ⌚ 20:24:45.334694 [0m:5s] ERROR: (DeploymentNotFound) Deployment 'ai-foundry' could not be found.\n",
      "Code: DeploymentNotFound\n",
      "Message: Deployment 'ai-foundry' could not be found.\n",
      "\n"
     ]
    }
   ],
   "source": [
    "import os, sys\n",
    "sys.path.insert(1, '../shared')  # add the shared directory to the Python path\n",
    "import utils\n",
    "\n",
    "deployment_name = 'ai-foundry'\n",
    "utils.cleanup_resources(deployment_name)"
   ]
  }
 ],
 "metadata": {
  "kernelspec": {
   "display_name": "Python 3",
   "language": "python",
   "name": "python3"
  },
  "language_info": {
   "codemirror_mode": {
    "name": "ipython",
    "version": 3
   },
   "file_extension": ".py",
   "mimetype": "text/x-python",
   "name": "python",
   "nbconvert_exporter": "python",
   "pygments_lexer": "ipython3",
   "version": "3.11.0rc2"
  }
 },
 "nbformat": 4,
 "nbformat_minor": 2
}
