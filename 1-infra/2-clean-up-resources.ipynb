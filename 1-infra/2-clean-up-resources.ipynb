{
 "cells": [
  {
   "cell_type": "markdown",
   "metadata": {},
   "source": [
    "### 🗑️ Clean up resources\n",
    "\n",
    "When you're finished with the lab, you should remove all your deployed resources from Azure to avoid extra charges and keep your Azure subscription uncluttered."
   ]
  },
  {
   "cell_type": "code",
   "execution_count": 7,
   "metadata": {},
   "outputs": [
    {
     "name": "stdout",
     "output_type": "stream",
     "text": [
      "👉🏽 \u001b[1;34m🧹 Cleaning up resource group 'lab-ai-foundry'...\u001b[0m\n",
      "⚙️ \u001b[1;34mRunning: az deployment group show --name ai-foundry -g lab-ai-foundry -o json \u001b[0m\n",
      "✅ \u001b[1;32mDeployment retrieved\u001b[0m ⌚ 18:54:34.530101 [0m:5s]\n",
      "👉🏽 \u001b[1;34mDeployment provisioning state: Succeeded\u001b[0m\n",
      "⚙️ \u001b[1;34mRunning:  az cognitiveservices account list -g lab-ai-foundry \u001b[0m\n",
      "✅ \u001b[1;32mListed CognitiveService accounts\u001b[0m ⌚ 18:54:37.329072 [0m:2s]\n",
      "👉🏽 \u001b[1;34mDeleting and purging Cognitive Service Account 'agent-ai-servicesjrpn' in resource group 'lab-ai-foundry'...\u001b[0m\n",
      "⚙️ \u001b[1;34mRunning: az cognitiveservices account delete -g lab-ai-foundry -n agent-ai-servicesjrpn \u001b[0m\n",
      "✅ \u001b[1;32mCognitive Services 'agent-ai-servicesjrpn' deleted\u001b[0m ⌚ 18:54:41.845449 [0m:4s]\n",
      "⚙️ \u001b[1;34mRunning: az cognitiveservices account purge -g lab-ai-foundry -n agent-ai-servicesjrpn -l \"eastus\" \u001b[0m\n",
      "✅ \u001b[1;32mCognitive Services 'agent-ai-servicesjrpn' purged\u001b[0m ⌚ 18:54:45.213651 [0m:3s]\n",
      "⚙️ \u001b[1;34mRunning:  az apim list -g lab-ai-foundry \u001b[0m\n",
      "✅ \u001b[1;32mListed APIM resources\u001b[0m ⌚ 18:54:48.137502 [0m:2s]\n",
      "⚙️ \u001b[1;34mRunning:  az keyvault list -g lab-ai-foundry \u001b[0m\n",
      "✅ \u001b[1;32mListed Key Vault resources\u001b[0m ⌚ 18:54:52.295512 [0m:4s]\n",
      "👉🏽 \u001b[1;34mDeleting and purging Key Vault 'kv-hub-demo-jrpn' in resource group 'lab-ai-foundry'...\u001b[0m\n",
      "⚙️ \u001b[1;34mRunning: az keyvault delete -n kv-hub-demo-jrpn -g lab-ai-foundry \u001b[0m\n",
      "✅ \u001b[1;32mKey Vault 'kv-hub-demo-jrpn' deleted\u001b[0m ⌚ 18:54:58.414561 [0m:6s]\n",
      "⚙️ \u001b[1;34mRunning: az keyvault purge -n kv-hub-demo-jrpn --location \"eastus\" \u001b[0m\n",
      "✅ \u001b[1;32mKey Vault 'kv-hub-demo-jrpn' purged\u001b[0m ⌚ 19:05:07.161642 [10m:8s]\n",
      "👉🏽 \u001b[1;32m🧹 Deleting resource group 'lab-ai-foundry'...\u001b[0m ⌚ 19:05:07.165637 \n",
      "⚙️ \u001b[1;34mRunning: az group delete --name lab-ai-foundry -y \u001b[0m\n",
      "✅ \u001b[1;32mResource group 'lab-ai-foundry' deleted\u001b[0m ⌚ 19:15:32.589869 [10m:25s]\n",
      "👉🏽 \u001b[1;32m🧹 Cleanup completed.\u001b[0m ⌚ 19:15:32.591546 \n"
     ]
    }
   ],
   "source": [
    "import os, sys\n",
    "sys.path.insert(1, '../shared')  # add the shared directory to the Python path\n",
    "import utils\n",
    "\n",
    "deployment_name = 'ai-foundry'\n",
    "utils.cleanup_resources(deployment_name)"
   ]
  },
  {
   "cell_type": "code",
   "execution_count": null,
   "metadata": {},
   "outputs": [],
   "source": []
  }
 ],
 "metadata": {
  "kernelspec": {
   "display_name": ".venv",
   "language": "python",
   "name": "python3"
  },
  "language_info": {
   "codemirror_mode": {
    "name": "ipython",
    "version": 3
   },
   "file_extension": ".py",
   "mimetype": "text/x-python",
   "name": "python",
   "nbconvert_exporter": "python",
   "pygments_lexer": "ipython3",
   "version": "3.11.0rc2"
  }
 },
 "nbformat": 4,
 "nbformat_minor": 2
}
