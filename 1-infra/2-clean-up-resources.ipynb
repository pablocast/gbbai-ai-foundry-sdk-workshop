{
 "cells": [
  {
   "cell_type": "markdown",
   "metadata": {},
   "source": [
    "### 🗑️ Clean up resources\n",
    "\n",
    "When you're finished with the lab, you should remove all your deployed resources from Azure to avoid extra charges and keep your Azure subscription uncluttered."
   ]
  },
  {
   "cell_type": "code",
   "execution_count": null,
   "metadata": {},
   "outputs": [
    {
     "name": "stdout",
     "output_type": "stream",
     "text": [
      "👉🏽 \u001b[1;34m🧹 Cleaning up resource group 'lab-ai-foundry-sena'...\u001b[0m\n",
      "⚙️ \u001b[1;34mRunning: az deployment group show --name ai-foundry-sena -g lab-ai-foundry-sena -o json \u001b[0m\n",
      "✅ \u001b[1;32mDeployment retrieved\u001b[0m ⌚ 17:26:48.268432 [0m:2s]\n",
      "👉🏽 \u001b[1;34mDeployment provisioning state: Succeeded\u001b[0m\n",
      "⚙️ \u001b[1;34mRunning:  az cognitiveservices account list -g lab-ai-foundry-sena \u001b[0m\n",
      "✅ \u001b[1;32mListed CognitiveService accounts\u001b[0m ⌚ 17:26:51.517252 [0m:3s]\n",
      "👉🏽 \u001b[1;34mDeleting and purging Cognitive Service Account 'aiservices-aytvwwktokp6w' in resource group 'lab-ai-foundry-sena'...\u001b[0m\n",
      "⚙️ \u001b[1;34mRunning: az cognitiveservices account delete -g lab-ai-foundry-sena -n aiservices-aytvwwktokp6w \u001b[0m\n"
     ]
    }
   ],
   "source": [
    "import os, sys\n",
    "sys.path.insert(1, '../../shared')  # add the shared directory to the Python path\n",
    "import utils\n",
    "\n",
    "deployment_name = 'ai-foundry'\n",
    "utils.cleanup_resources(deployment_name)"
   ]
  }
 ],
 "metadata": {
  "kernelspec": {
   "display_name": ".venv",
   "language": "python",
   "name": "python3"
  },
  "language_info": {
   "codemirror_mode": {
    "name": "ipython",
    "version": 3
   },
   "file_extension": ".py",
   "mimetype": "text/x-python",
   "name": "python",
   "nbconvert_exporter": "python",
   "pygments_lexer": "ipython3",
   "version": "3.11.0rc2"
  }
 },
 "nbformat": 4,
 "nbformat_minor": 2
}
