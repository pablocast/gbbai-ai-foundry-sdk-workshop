{
 "cells": [
  {
   "cell_type": "markdown",
   "metadata": {},
   "source": [
    "### 🗑️ Clean up resources\n",
    "\n",
    "When you're finished with the lab, you should remove all your deployed resources from Azure to avoid extra charges and keep your Azure subscription uncluttered."
   ]
  },
  {
   "cell_type": "code",
   "execution_count": null,
   "metadata": {},
   "outputs": [
    {
     "name": "stdout",
     "output_type": "stream",
     "text": [
      "👉🏽 \u001b[1;34m🧹 Cleaning up resource group 'lab-ai-foundry'...\u001b[0m\n",
      "⚙️ \u001b[1;34mRunning: az deployment group show --name ai-foundry -g lab-ai-foundry -o json \u001b[0m\n",
      "✅ \u001b[1;32mDeployment retrieved\u001b[0m ⌚ 15:07:18.597597 [0m:3s]\n",
      "👉🏽 \u001b[1;34mDeployment provisioning state: Failed\u001b[0m\n",
      "⚙️ \u001b[1;34mRunning:  az cognitiveservices account list -g lab-ai-foundry \u001b[0m\n",
      "✅ \u001b[1;32mListed CognitiveService accounts\u001b[0m ⌚ 15:07:21.950176 [0m:3s]\n",
      "👉🏽 \u001b[1;34mDeleting and purging Cognitive Service Account 'agent-ai-servicesdybq' in resource group 'lab-ai-foundry'...\u001b[0m\n",
      "⚙️ \u001b[1;34mRunning: az cognitiveservices account delete -g lab-ai-foundry -n agent-ai-servicesdybq \u001b[0m\n",
      "✅ \u001b[1;32mCognitive Services 'agent-ai-servicesdybq' deleted\u001b[0m ⌚ 15:07:27.354090 [0m:5s]\n",
      "⚙️ \u001b[1;34mRunning: az cognitiveservices account purge -g lab-ai-foundry -n agent-ai-servicesdybq -l \"eastus\" \u001b[0m\n",
      "✅ \u001b[1;32mCognitive Services 'agent-ai-servicesdybq' purged\u001b[0m ⌚ 15:08:00.855910 [0m:33s]\n",
      "⚙️ \u001b[1;34mRunning:  az apim list -g lab-ai-foundry \u001b[0m\n",
      "✅ \u001b[1;32mListed APIM resources\u001b[0m ⌚ 15:08:03.935750 [0m:3s]\n",
      "⚙️ \u001b[1;34mRunning:  az keyvault list -g lab-ai-foundry \u001b[0m\n",
      "✅ \u001b[1;32mListed Key Vault resources\u001b[0m ⌚ 15:08:10.932223 [0m:6s]\n",
      "👉🏽 \u001b[1;34mDeleting and purging Key Vault 'kv-hub-demo-dybq' in resource group 'lab-ai-foundry'...\u001b[0m\n",
      "⚙️ \u001b[1;34mRunning: az keyvault delete -n kv-hub-demo-dybq -g lab-ai-foundry \u001b[0m\n",
      "✅ \u001b[1;32mKey Vault 'kv-hub-demo-dybq' deleted\u001b[0m ⌚ 15:08:20.231920 [0m:9s]\n",
      "⚙️ \u001b[1;34mRunning: az keyvault purge -n kv-hub-demo-dybq --location \"eastus\" \u001b[0m\n"
     ]
    }
   ],
   "source": [
    "import os, sys\n",
    "sys.path.insert(1, '../shared')  # add the shared directory to the Python path\n",
    "import utils\n",
    "\n",
    "deployment_name = 'ai-foundry'\n",
    "utils.cleanup_resources(deployment_name)"
   ]
  },
  {
   "cell_type": "code",
   "execution_count": null,
   "metadata": {},
   "outputs": [],
   "source": []
  }
 ],
 "metadata": {
  "kernelspec": {
   "display_name": ".venv",
   "language": "python",
   "name": "python3"
  },
  "language_info": {
   "codemirror_mode": {
    "name": "ipython",
    "version": 3
   },
   "file_extension": ".py",
   "mimetype": "text/x-python",
   "name": "python",
   "nbconvert_exporter": "python",
   "pygments_lexer": "ipython3",
   "version": "3.11.0rc2"
  }
 },
 "nbformat": 4,
 "nbformat_minor": 2
}
