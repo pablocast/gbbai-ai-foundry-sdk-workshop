{
 "cells": [
  {
   "cell_type": "markdown",
   "metadata": {},
   "source": [
    "# Deploy Infrastructure"
   ]
  },
  {
   "cell_type": "markdown",
   "metadata": {},
   "source": [
    "<a id='0'></a>\n",
    "### 0️⃣ Initialize notebook variables\n",
    "\n",
    "- Resources will be suffixed by a unique string based on your subscription id.\n",
    "- Adjust the location parameters according your preferences and on the [product availability by Azure region.](https://azure.microsoft.com/explore/global-infrastructure/products-by-region/?cdn=disable&products=cognitive-services,api-management) \n",
    "- Adjust the OpenAI model and version according the [availability by region.](https://learn.microsoft.com/azure/ai-services/openai/concepts/models) "
   ]
  },
  {
   "cell_type": "code",
   "execution_count": null,
   "metadata": {
    "metadata": {}
   },
   "outputs": [
    {
     "name": "stdout",
     "output_type": "stream",
     "text": [
      "✅ \u001b[1;32mNotebook initialized\u001b[0m ⌚ 20:36:16.037705 \n"
     ]
    }
   ],
   "source": [
    "import os, sys, json\n",
    "sys.path.insert(1, '../shared')  # add the shared directory to the Python path\n",
    "import utils\n",
    "\n",
    "\n",
    "deployment_name = 'ai-foundry'\n",
    "resource_group_name = f\"lab-{deployment_name}\" # change the name to match your naming convention\n",
    "resource_group_location = \"eastus\" # all the resources will be deployed in this location\n",
    "\n",
    "build = 0\n",
    "\n",
    "# https://learn.microsoft.com/en-us/azure/ai-foundry/model-inference/concepts/models\n",
    "models_config = [{\"name\": \"DeepSeek-R1\", \"publisher\": \"DeepSeek\", \"version\": \"1\", \"sku\": \"GlobalStandard\", \"capacity\": 1},\n",
    "                 {\"name\": \"Phi-4\", \"publisher\": \"Microsoft\", \"version\": \"3\", \"sku\": \"GlobalStandard\", \"capacity\": 1},\n",
    "                 {\"name\": \"gpt-4o\", \"publisher\": \"OpenAI\", \"version\": \"2024-05-13\", \"sku\": \"GlobalStandard\", \"capacity\": 1},\n",
    "                 {\"name\": \"text-embedding-3-large\", \"publisher\": \"OpenAI\", \"version\": \"1\", \"sku\": \"Standard\", \"capacity\": 1}\n",
    "                 ]\n",
    "\n",
    "searchservice_sku = \"standard\"\n",
    "weather_mcp_server_image = \"weather-mcp-server\"\n",
    "weather_mcp_server_src = \"./src/weather/mcp-server\"\n",
    "\n",
    "principalId = \"\"\n",
    "if not principalId:\n",
    "    principalId = !az ad signed-in-user show --query id -o tsv\n",
    "    principalId = principalId[0]\n",
    "    \n",
    "utils.print_ok('Notebook initialized')"
   ]
  },
  {
   "cell_type": "markdown",
   "metadata": {},
   "source": [
    "<a id='1'></a>\n",
    "### 1️⃣ Verify the Azure CLI and the connected Azure subscription\n",
    "\n",
    "The following commands ensure that you have the latest version of the Azure CLI and that the Azure CLI is connected to your Azure subscription."
   ]
  },
  {
   "cell_type": "code",
   "execution_count": 2,
   "metadata": {},
   "outputs": [
    {
     "name": "stdout",
     "output_type": "stream",
     "text": [
      "⚙️ \u001b[1;34mRunning: az account show \u001b[0m\n",
      "✅ \u001b[1;32mRetrieved az account\u001b[0m ⌚ 20:36:18.351818 [0m:2s]\n",
      "👉🏽 \u001b[1;34mCurrent user: pablocastao@microsoft.com\u001b[0m\n",
      "👉🏽 \u001b[1;34mTenant ID: 16b3c013-d300-468d-ac64-7eda0820b6d3\u001b[0m\n",
      "👉🏽 \u001b[1;34mSubscription ID: 06d043e2-5a2e-46bf-bf48-fffee525f377\u001b[0m\n"
     ]
    }
   ],
   "source": [
    "output = utils.run(\"az account show\", \"Retrieved az account\", \"Failed to get the current az account\")\n",
    "\n",
    "if output.success and output.json_data:\n",
    "    current_user = output.json_data['user']['name']\n",
    "    tenant_id = output.json_data['tenantId']\n",
    "    subscription_id = output.json_data['id']\n",
    "\n",
    "    utils.print_info(f\"Current user: {current_user}\")\n",
    "    utils.print_info(f\"Tenant ID: {tenant_id}\")\n",
    "    utils.print_info(f\"Subscription ID: {subscription_id}\")"
   ]
  },
  {
   "cell_type": "markdown",
   "metadata": {},
   "source": [
    "<a id='2'></a>\n",
    "### 2️⃣ Create deployment using 🦾 Bicep\n",
    "\n",
    "This lab uses [Bicep](https://learn.microsoft.com/azure/azure-resource-manager/bicep/overview?tabs=bicep) to declarative define all the resources that will be deployed in the specified resource group. Change the parameters or the [main.bicep](main.bicep) directly to try different configurations. "
   ]
  },
  {
   "cell_type": "code",
   "execution_count": 3,
   "metadata": {},
   "outputs": [
    {
     "name": "stdout",
     "output_type": "stream",
     "text": [
      "⚙️ \u001b[1;34mRunning: az group show --name lab-ai-foundry-bancolombia \u001b[0m\n",
      "👉🏽 \u001b[1;34mResource group lab-ai-foundry-bancolombia does not yet exist. Creating the resource group now...\u001b[0m\n",
      "⚙️ \u001b[1;34mRunning: az group create --name lab-ai-foundry-bancolombia --location eastus --tags source=ai-gateway \u001b[0m\n",
      "✅ \u001b[1;32mResource group 'lab-ai-foundry-bancolombia' created\u001b[0m ⌚ 20:36:26.074235 [0m:3s]\n",
      "⚙️ \u001b[1;34mRunning: az deployment group create --name ai-foundry-bancolombia --resource-group lab-ai-foundry-bancolombia --template-file main.bicep --parameters params.json \u001b[0m\n",
      "⛔ \u001b[1;31mDeployment 'ai-foundry-bancolombia' failed\u001b[0m ⌚ 20:47:52.407033 [11m:26s] WARNING: A new Bicep release is available: v0.34.44. Upgrade now by running \"az bicep upgrade\".\n",
      "WARNING: c:\\Users\\pablocastao\\OneDrive - Microsoft\\Work\\Clients\\Bancolombia\\gbbai-ai-foundry-sdk-workshop\\1-infra\\modules\\add-capability-host.bicep(20,16) : Warning BCP081: Resource type \"Microsoft.MachineLearningServices/workspaces@2024-10-01-preview\" does not have types available. Bicep is unable to validate resource properties prior to deployment, but this will not block the resource from being deployed.\n",
      "c:\\Users\\pablocastao\\OneDrive - Microsoft\\Work\\Clients\\Bancolombia\\gbbai-ai-foundry-sdk-workshop\\1-infra\\modules\\add-capability-host.bicep(24,20) : Warning BCP081: Resource type \"Microsoft.MachineLearningServices/workspaces@2024-10-01-preview\" does not have types available. Bicep is unable to validate resource properties prior to deployment, but this will not block the resource from being deployed.\n",
      "c:\\Users\\pablocastao\\OneDrive - Microsoft\\Work\\Clients\\Bancolombia\\gbbai-ai-foundry-sdk-workshop\\1-infra\\modules\\standard-dependent-resources.bicep(79,35) : Warning BCP081: Resource type \"Microsoft.CognitiveServices/accounts@2024-10-01\" does not have types available. Bicep is unable to validate resource properties prior to deployment, but this will not block the resource from being deployed.\n",
      "c:\\Users\\pablocastao\\OneDrive - Microsoft\\Work\\Clients\\Bancolombia\\gbbai-ai-foundry-sdk-workshop\\1-infra\\modules\\standard-dependent-resources.bicep(84,21) : Warning BCP081: Resource type \"Microsoft.CognitiveServices/accounts@2024-10-01\" does not have types available. Bicep is unable to validate resource properties prior to deployment, but this will not block the resource from being deployed.\n",
      "c:\\Users\\pablocastao\\OneDrive - Microsoft\\Work\\Clients\\Bancolombia\\gbbai-ai-foundry-sdk-workshop\\1-infra\\modules\\standard-dependent-resources.bicep(103,21) : Warning BCP081: Resource type \"Microsoft.Bing/accounts@2020-06-10\" does not have types available. Bicep is unable to validate resource properties prior to deployment, but this will not block the resource from being deployed.\n",
      "c:\\Users\\pablocastao\\OneDrive - Microsoft\\Work\\Clients\\Bancolombia\\gbbai-ai-foundry-sdk-workshop\\1-infra\\modules\\standard-dependent-resources.bicep(249,31) : Warning outputs-should-not-contain-secrets: Outputs should not contain secrets. Found possible secret: function 'listKeys' [https://aka.ms/bicep/linter/outputs-should-not-contain-secrets]\n",
      "c:\\Users\\pablocastao\\OneDrive - Microsoft\\Work\\Clients\\Bancolombia\\gbbai-ai-foundry-sdk-workshop\\1-infra\\modules\\standard-ai-hub.bicep(79,21) : Warning BCP081: Resource type \"Microsoft.CognitiveServices/accounts@2024-10-01\" does not have types available. Bicep is unable to validate resource properties prior to deployment, but this will not block the resource from being deployed.\n",
      "c:\\Users\\pablocastao\\OneDrive - Microsoft\\Work\\Clients\\Bancolombia\\gbbai-ai-foundry-sdk-workshop\\1-infra\\modules\\standard-ai-hub.bicep(89,16) : Warning BCP081: Resource type \"Microsoft.MachineLearningServices/workspaces@2024-10-01-preview\" does not have types available. Bicep is unable to validate resource properties prior to deployment, but this will not block the resource from being deployed.\n",
      "c:\\Users\\pablocastao\\OneDrive - Microsoft\\Work\\Clients\\Bancolombia\\gbbai-ai-foundry-sdk-workshop\\1-infra\\modules\\standard-ai-hub.bicep(110,33) : Warning BCP081: Resource type \"Microsoft.MachineLearningServices/workspaces/connections@2024-07-01-preview\" does not have types available. Bicep is unable to validate resource properties prior to deployment, but this will not block the resource from being deployed.\n",
      "c:\\Users\\pablocastao\\OneDrive - Microsoft\\Work\\Clients\\Bancolombia\\gbbai-ai-foundry-sdk-workshop\\1-infra\\modules\\standard-ai-hub.bicep(124,42) : Warning BCP081: Resource type \"Microsoft.MachineLearningServices/workspaces/connections@2024-07-01-preview\" does not have types available. Bicep is unable to validate resource properties prior to deployment, but this will not block the resource from being deployed.\n",
      "c:\\Users\\pablocastao\\OneDrive - Microsoft\\Work\\Clients\\Bancolombia\\gbbai-ai-foundry-sdk-workshop\\1-infra\\modules\\standard-ai-hub.bicep(139,39) : Warning BCP081: Resource type \"Microsoft.MachineLearningServices/workspaces/connections@2024-07-01-preview\" does not have types available. Bicep is unable to validate resource properties prior to deployment, but this will not block the resource from being deployed.\n",
      "c:\\Users\\pablocastao\\OneDrive - Microsoft\\Work\\Clients\\Bancolombia\\gbbai-ai-foundry-sdk-workshop\\1-infra\\modules\\ai-service-role-assignments.bicep(18,21) : Warning BCP081: Resource type \"Microsoft.CognitiveServices/accounts@2024-06-01-preview\" does not have types available. Bicep is unable to validate resource properties prior to deployment, but this will not block the resource from being deployed.\n",
      "c:\\Users\\pablocastao\\OneDrive - Microsoft\\Work\\Clients\\Bancolombia\\gbbai-ai-foundry-sdk-workshop\\1-infra\\modules\\standard-ai-project.bicep(42,20) : Warning BCP081: Resource type \"Microsoft.MachineLearningServices/workspaces@2024-10-01-preview\" does not have types available. Bicep is unable to validate resource properties prior to deployment, but this will not block the resource from being deployed.\n",
      "\n",
      "ERROR: {\"status\":\"Failed\",\"error\":{\"code\":\"DeploymentOutputEvaluationFailed\",\"target\":\"/subscriptions/06d043e2-5a2e-46bf-bf48-fffee525f377/resourceGroups/lab-ai-foundry-bancolombia/providers/Microsoft.Resources/deployments/ai-foundry-bancolombia\",\"message\":\"Unable to evaluate template outputs: 'modelDeploymentName'. Please see error details and deployment operations. Please see https://aka.ms/arm-common-errors for usage details.\",\"details\":[{\"code\":\"DeploymentOutputEvaluationFailed\",\"target\":\"modelDeploymentName\",\"message\":\"The template output 'modelDeploymentName' is not valid: The language expression property 'modelDeploymentName' doesn't exist, available properties are 'name, publisher, version, sku, capacity'..\"}]}}\n",
      "\n"
     ]
    }
   ],
   "source": [
    "# Create the resource group if doesn't exist\n",
    "utils.create_resource_group(resource_group_name, resource_group_location)\n",
    "\n",
    "# Define the Bicep parameters\n",
    "bicep_parameters = {\n",
    "    \"$schema\": \"https://schema.management.azure.com/schemas/2019-04-01/deploymentParameters.json#\",\n",
    "    \"contentVersion\": \"1.0.0.0\",\n",
    "    \"parameters\": {\n",
    "        \"modelsConfig\": { \"value\": models_config },\n",
    "        \"principalId\": { \"value\": principalId }\n",
    "    }\n",
    "}\n",
    "\n",
    "# Write the parameters to the params.json file\n",
    "with open('params.json', 'w') as bicep_parameters_file:\n",
    "    bicep_parameters_file.write(json.dumps(bicep_parameters))\n",
    "\n",
    "# Run the deployment\n",
    "output = utils.run(f\"az deployment group create --name {deployment_name} --resource-group {resource_group_name} --template-file main.bicep --parameters params.json\",\n",
    "    f\"Deployment '{deployment_name}' succeeded\", f\"Deployment '{deployment_name}' failed\")"
   ]
  },
  {
   "cell_type": "markdown",
   "metadata": {},
   "source": [
    "<a id='3'></a>\n",
    "### 3️⃣ Get the deployment outputs\n",
    "\n",
    "Retrieve the required outputs from the Bicep deployment."
   ]
  },
  {
   "cell_type": "code",
   "execution_count": 4,
   "metadata": {},
   "outputs": [
    {
     "name": "stdout",
     "output_type": "stream",
     "text": [
      "⚙️ \u001b[1;34mRunning: az deployment group show --name ai-foundry-bancolombia -g lab-ai-foundry-bancolombia \u001b[0m\n",
      "✅ \u001b[1;32mRetrieved deployment: ai-foundry-bancolombia\u001b[0m ⌚ 20:49:22.219590 [0m:5s]\n",
      "⛔ \u001b[1;31mFailed to retrieve output property: 'projectConnectionString'\n",
      "Error: 'NoneType' object is not subscriptable\u001b[0m ⌚ 20:49:22.221593 \n"
     ]
    },
    {
     "ename": "Exception",
     "evalue": "Failed to retrieve output property: 'projectConnectionString'\nError: 'NoneType' object is not subscriptable",
     "output_type": "error",
     "traceback": [
      "\u001b[31m---------------------------------------------------------------------------\u001b[39m",
      "\u001b[31mTypeError\u001b[39m                                 Traceback (most recent call last)",
      "\u001b[36mFile \u001b[39m\u001b[32mc:\\Users\\pablocastao\\OneDrive - Microsoft\\Work\\Clients\\Bancolombia\\gbbai-ai-foundry-sdk-workshop\\1-infra\\../shared\\utils.py:124\u001b[39m, in \u001b[36mget_deployment_output\u001b[39m\u001b[34m(output, output_property, output_label, secure)\u001b[39m\n\u001b[32m    123\u001b[39m \u001b[38;5;28;01mtry\u001b[39;00m:\n\u001b[32m--> \u001b[39m\u001b[32m124\u001b[39m     deployment_output = \u001b[43moutput\u001b[49m\u001b[43m.\u001b[49m\u001b[43mjson_data\u001b[49m\u001b[43m[\u001b[49m\u001b[33;43m'\u001b[39;49m\u001b[33;43mproperties\u001b[39;49m\u001b[33;43m'\u001b[39;49m\u001b[43m]\u001b[49m\u001b[43m[\u001b[49m\u001b[33;43m'\u001b[39;49m\u001b[33;43moutputs\u001b[39;49m\u001b[33;43m'\u001b[39;49m\u001b[43m]\u001b[49m\u001b[43m[\u001b[49m\u001b[43moutput_property\u001b[49m\u001b[43m]\u001b[49m[\u001b[33m'\u001b[39m\u001b[33mvalue\u001b[39m\u001b[33m'\u001b[39m]\n\u001b[32m    126\u001b[39m     \u001b[38;5;28;01mif\u001b[39;00m output_label:\n",
      "\u001b[31mTypeError\u001b[39m: 'NoneType' object is not subscriptable",
      "\nDuring handling of the above exception, another exception occurred:\n",
      "\u001b[31mException\u001b[39m                                 Traceback (most recent call last)",
      "\u001b[36mCell\u001b[39m\u001b[36m \u001b[39m\u001b[32mIn[4]\u001b[39m\u001b[32m, line 5\u001b[39m\n\u001b[32m      2\u001b[39m output = utils.run(\u001b[33mf\u001b[39m\u001b[33m\"\u001b[39m\u001b[33maz deployment group show --name \u001b[39m\u001b[38;5;132;01m{\u001b[39;00mdeployment_name\u001b[38;5;132;01m}\u001b[39;00m\u001b[33m -g \u001b[39m\u001b[38;5;132;01m{\u001b[39;00mresource_group_name\u001b[38;5;132;01m}\u001b[39;00m\u001b[33m\"\u001b[39m, \u001b[33mf\u001b[39m\u001b[33m\"\u001b[39m\u001b[33mRetrieved deployment: \u001b[39m\u001b[38;5;132;01m{\u001b[39;00mdeployment_name\u001b[38;5;132;01m}\u001b[39;00m\u001b[33m\"\u001b[39m, \u001b[33mf\u001b[39m\u001b[33m\"\u001b[39m\u001b[33mFailed to retrieve deployment: \u001b[39m\u001b[38;5;132;01m{\u001b[39;00mdeployment_name\u001b[38;5;132;01m}\u001b[39;00m\u001b[33m\"\u001b[39m)\n\u001b[32m      4\u001b[39m \u001b[38;5;28;01mif\u001b[39;00m output.success \u001b[38;5;129;01mand\u001b[39;00m output.json_data:\n\u001b[32m----> \u001b[39m\u001b[32m5\u001b[39m     project = \u001b[43mutils\u001b[49m\u001b[43m.\u001b[49m\u001b[43mget_deployment_output\u001b[49m\u001b[43m(\u001b[49m\u001b[43moutput\u001b[49m\u001b[43m,\u001b[49m\u001b[43m \u001b[49m\u001b[33;43m'\u001b[39;49m\u001b[33;43mprojectConnectionString\u001b[39;49m\u001b[33;43m'\u001b[39;49m\u001b[43m,\u001b[49m\u001b[43m \u001b[49m\u001b[33;43m'\u001b[39;49m\u001b[33;43mProject Connection String\u001b[39;49m\u001b[33;43m'\u001b[39;49m\u001b[43m)\u001b[49m    \n\u001b[32m      6\u001b[39m     app_insights_name = utils.get_deployment_output(output, \u001b[33m'\u001b[39m\u001b[33mapplicationInsightsName\u001b[39m\u001b[33m'\u001b[39m, \u001b[33m'\u001b[39m\u001b[33mApplication Insights Name\u001b[39m\u001b[33m'\u001b[39m)\n\u001b[32m      7\u001b[39m     container_registry_name = utils.get_deployment_output(output, \u001b[33m'\u001b[39m\u001b[33mcontainerRegistryName\u001b[39m\u001b[33m'\u001b[39m, \u001b[33m'\u001b[39m\u001b[33mContainer Registry Name\u001b[39m\u001b[33m'\u001b[39m)\n",
      "\u001b[36mFile \u001b[39m\u001b[32mc:\\Users\\pablocastao\\OneDrive - Microsoft\\Work\\Clients\\Bancolombia\\gbbai-ai-foundry-sdk-workshop\\1-infra\\../shared\\utils.py:136\u001b[39m, in \u001b[36mget_deployment_output\u001b[39m\u001b[34m(output, output_property, output_label, secure)\u001b[39m\n\u001b[32m    134\u001b[39m error = \u001b[33mf\u001b[39m\u001b[33m\"\u001b[39m\u001b[33mFailed to retrieve output property: \u001b[39m\u001b[33m'\u001b[39m\u001b[38;5;132;01m{\u001b[39;00moutput_property\u001b[38;5;132;01m}\u001b[39;00m\u001b[33m'\u001b[39m\u001b[38;5;130;01m\\n\u001b[39;00m\u001b[33mError: \u001b[39m\u001b[38;5;132;01m{\u001b[39;00me\u001b[38;5;132;01m}\u001b[39;00m\u001b[33m\"\u001b[39m\n\u001b[32m    135\u001b[39m print_error(error)\n\u001b[32m--> \u001b[39m\u001b[32m136\u001b[39m \u001b[38;5;28;01mraise\u001b[39;00m \u001b[38;5;167;01mException\u001b[39;00m(error)\n",
      "\u001b[31mException\u001b[39m: Failed to retrieve output property: 'projectConnectionString'\nError: 'NoneType' object is not subscriptable"
     ]
    }
   ],
   "source": [
    "# Obtain all of the outputs from the deployment\n",
    "output = utils.run(f\"az deployment group show --name {deployment_name} -g {resource_group_name}\", f\"Retrieved deployment: {deployment_name}\", f\"Failed to retrieve deployment: {deployment_name}\")\n",
    "\n",
    "if output.success and output.json_data:\n",
    "    project = utils.get_deployment_output(output, 'projectConnectionString', 'Project Connection String')    \n",
    "    app_insights_name = utils.get_deployment_output(output, 'applicationInsightsName', 'Application Insights Name')\n",
    "    container_registry_name = utils.get_deployment_output(output, 'containerRegistryName', 'Container Registry Name')\n",
    "    weather_containerapp_resource_name = utils.get_deployment_output(output, 'weatherMCPServerContainerAppResourceName', 'Weather Container App Resource Name')\n",
    "    weather_containerapp_url = utils.get_deployment_output(output, 'weatherMCPServerContainerAppFQDN', 'Weather Container App URL')\n",
    "    bingConnectionName = utils.get_deployment_output(output, 'bingConnectionName', 'Bing Connection Name')\n",
    "    model_deployment_name = utils.get_deployment_output(output, 'model_deployment_name', 'Model Deployment Name')\n",
    "\n",
    "    # Write the project and outputs to an .env file\n",
    "    with open('../.env', 'w') as env_file:\n",
    "        env_file.write(f\"PROJECT_CONNECTION_STRING='{project}'\\n\")\n",
    "        env_file.write(f\"APPLICATION_INSIGHTS_NAME='{app_insights_name}'\\n\")\n",
    "        env_file.write(f\"CONTAINER_REGISTRY_NAME='{container_registry_name}'\\n\")\n",
    "        env_file.write(f\"WEATHER_CONTAINERAPP_RESOURCE_NAME='{weather_containerapp_resource_name}'\\n\")\n",
    "        env_file.write(f\"WEATHER_CONTAINERAPP_URL='{weather_containerapp_url}'\\n\")\n",
    "        env_file.write(f\"BING_CONNECTION_NAME='{bingConnectionName}'\\n\")\n",
    "        env_file.write(f\"MODEL_DEPLOYMENT_NAME='{model_deployment_name}'\\n\")\n",
    "        env_file.write(f\"AOAI_API_VERSION='2024-12-01-preview'\\n\")\n"
   ]
  },
  {
   "cell_type": "markdown",
   "metadata": {},
   "source": [
    "### 4️⃣ Build and deploy the MCP Servers"
   ]
  },
  {
   "cell_type": "code",
   "execution_count": null,
   "metadata": {},
   "outputs": [
    {
     "name": "stdout",
     "output_type": "stream",
     "text": [
      "⚙️ \u001b[1;34mRunning: az acr build --image weather-mcp-server:v0.1 --resource-group lab-ai-foundry --registry acr5yrvw4ytnjmmm --file ./src/weather/mcp-server/Dockerfile ./src/weather/mcp-server/. --no-logs \u001b[0m\n",
      "✅ \u001b[1;32mWeather MCP Server image was successfully built\u001b[0m ⌚ 16:29:00.406055 [1m:8s]\n",
      "⚙️ \u001b[1;34mRunning: az containerapp update -n aca-weather-5yrvw4ytnjmmm -g lab-ai-foundry --image \"acr5yrvw4ytnjmmm.azurecr.io/weather-mcp-server:v0.1\" \u001b[0m\n",
      "✅ \u001b[1;32mWeather MCP Server deployment succeeded\u001b[0m ⌚ 16:29:20.737501 [0m:20s]\n"
     ]
    },
    {
     "data": {
      "text/plain": [
       "<utils.Output at 0x20a2c5c5590>"
      ]
     },
     "execution_count": 5,
     "metadata": {},
     "output_type": "execute_result"
    }
   ],
   "source": [
    "build = build + 1 # increment the build number\n",
    "\n",
    "utils.run(f\"az acr build --image {weather_mcp_server_image}:v0.{build} --resource-group {resource_group_name} --registry {container_registry_name} --file {weather_mcp_server_src}/Dockerfile {weather_mcp_server_src}/. --no-logs\", \n",
    "          \"Weather MCP Server image was successfully built\", \"Failed to build the Weather MCP Server image\")\n",
    "utils.run(f'az containerapp update -n {weather_containerapp_resource_name} -g {resource_group_name} --image \"{container_registry_name}.azurecr.io/{weather_mcp_server_image}:v0.{build}\"', \n",
    "          \"Weather MCP Server deployment succeeded\", \"Weather MCP Server deployment failed\")"
   ]
  }
 ],
 "metadata": {
  "kernelspec": {
   "display_name": ".venv",
   "language": "python",
   "name": "python3"
  },
  "language_info": {
   "codemirror_mode": {
    "name": "ipython",
    "version": 3
   },
   "file_extension": ".py",
   "mimetype": "text/x-python",
   "name": "python",
   "nbconvert_exporter": "python",
   "pygments_lexer": "ipython3",
   "version": "3.11.0rc2"
  }
 },
 "nbformat": 4,
 "nbformat_minor": 2
}
