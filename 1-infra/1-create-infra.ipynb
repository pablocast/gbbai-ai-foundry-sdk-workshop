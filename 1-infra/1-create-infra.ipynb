{
 "cells": [
  {
   "cell_type": "markdown",
   "metadata": {},
   "source": [
    "# Deploy Infrastructure"
   ]
  },
  {
   "cell_type": "markdown",
   "metadata": {},
   "source": [
    "<a id='0'></a>\n",
    "### 0️⃣ Initialize notebook variables\n",
    "\n",
    "- Resources will be suffixed by a unique string based on your subscription id.\n",
    "- Adjust the location parameters according your preferences and on the [product availability by Azure region.](https://azure.microsoft.com/explore/global-infrastructure/products-by-region/?cdn=disable&products=cognitive-services,api-management) \n",
    "- Adjust the OpenAI model and version according the [availability by region.](https://learn.microsoft.com/azure/ai-services/openai/concepts/models) "
   ]
  },
  {
   "cell_type": "code",
   "execution_count": 5,
   "metadata": {
    "metadata": {}
   },
   "outputs": [
    {
     "name": "stdout",
     "output_type": "stream",
     "text": [
      "✅ \u001b[1;32mNotebook initialized\u001b[0m ⌚ 11:52:53.897871 \n"
     ]
    }
   ],
   "source": [
    "import os, sys, json\n",
    "sys.path.insert(1, '../shared')  # add the shared directory to the Python path\n",
    "import utils\n",
    "\n",
    "\n",
    "deployment_name = 'ai-foundry'\n",
    "resource_group_name = f\"lab-{deployment_name}\" # change the name to match your naming convention\n",
    "resource_group_location = \"eastus\"#\"northcentralus\" # all the resources will be deployed in this location\n",
    "\n",
    "build = 0 \n",
    "\n",
    "# https://learn.microsoft.com/en-us/azure/ai-foundry/model-inference/concepts/models\n",
    "models_config = [\n",
    "    # {\"name\": \"DeepSeek-R1\", \"publisher\": \"DeepSeek\", \"version\": \"1\", \"sku\": \"GlobalStandard\", \"capacity\": 1},\n",
    "    # {\"name\": \"Phi-4\", \"publisher\": \"Microsoft\", \"version\": \"3\", \"sku\": \"GlobalStandard\", \"capacity\": 1},\n",
    "    {\"name\": \"gpt-4o\", \"publisher\": \"OpenAI\", \"version\": \"2024-05-13\", \"sku\": \"GlobalStandard\", \"capacity\": 100},\n",
    "    {\"name\": \"text-embedding-3-large\", \"publisher\": \"OpenAI\", \"version\": \"1\", \"sku\": \"GlobalStandard\", \"capacity\": 1},\n",
    "    {\"name\": \"gpt-4.1\", \"publisher\": \"OpenAI\", \"version\": \"2025-04-14\", \"sku\": \"GlobalStandard\", \"capacity\": 150},\n",
    "]\n",
    "\n",
    "searchservice_sku = \"standard\"\n",
    "weather_mcp_server_image = \"weather-mcp-server\"\n",
    "weather_mcp_server_src = \"./src/weather/mcp-server\"\n",
    "\n",
    "principalId = \"\"\n",
    "if not principalId:\n",
    "    principalId = !az ad signed-in-user show --query id -o tsv\n",
    "    principalId = principalId[0]\n",
    "    \n",
    "utils.print_ok('Notebook initialized')"
   ]
  },
  {
   "cell_type": "markdown",
   "metadata": {},
   "source": [
    "<a id='1'></a>\n",
    "### 1️⃣ Verify the Azure CLI and the connected Azure subscription\n",
    "\n",
    "The following commands ensure that you have the latest version of the Azure CLI and that the Azure CLI is connected to your Azure subscription."
   ]
  },
  {
   "cell_type": "code",
   "execution_count": 6,
   "metadata": {},
   "outputs": [
    {
     "name": "stdout",
     "output_type": "stream",
     "text": [
      "⚙️ \u001b[1;34mRunning: az account show \u001b[0m\n",
      "✅ \u001b[1;32mRetrieved az account\u001b[0m ⌚ 11:52:56.071409 [0m:2s]\n",
      "👉🏽 \u001b[1;34mCurrent user: pablocastao@microsoft.com\u001b[0m\n",
      "👉🏽 \u001b[1;34mTenant ID: 16b3c013-d300-468d-ac64-7eda0820b6d3\u001b[0m\n",
      "👉🏽 \u001b[1;34mSubscription ID: 06d043e2-5a2e-46bf-bf48-fffee525f377\u001b[0m\n"
     ]
    }
   ],
   "source": [
    "output = utils.run(\"az account show\", \"Retrieved az account\", \"Failed to get the current az account\")\n",
    "\n",
    "if output.success and output.json_data:\n",
    "    current_user = output.json_data['user']['name']\n",
    "    tenant_id = output.json_data['tenantId']\n",
    "    subscription_id = output.json_data['id']\n",
    "\n",
    "    utils.print_info(f\"Current user: {current_user}\")\n",
    "    utils.print_info(f\"Tenant ID: {tenant_id}\")\n",
    "    utils.print_info(f\"Subscription ID: {subscription_id}\")"
   ]
  },
  {
   "cell_type": "markdown",
   "metadata": {},
   "source": [
    "<a id='2'></a>\n",
    "### 2️⃣ Create deployment using 🦾 Bicep\n",
    "\n",
    "This lab uses [Bicep](https://learn.microsoft.com/azure/azure-resource-manager/bicep/overview?tabs=bicep) to declarative define all the resources that will be deployed in the specified resource group. Change the parameters or the [main.bicep](main.bicep) directly to try different configurations. "
   ]
  },
  {
   "cell_type": "code",
   "execution_count": 10,
   "metadata": {},
   "outputs": [
    {
     "name": "stdout",
     "output_type": "stream",
     "text": [
      "⚙️ \u001b[1;34mRunning: az group show --name lab-ai-foundry \u001b[0m\n",
      "👉🏽 \u001b[1;34mUsing existing resource group 'lab-ai-foundry'\u001b[0m\n",
      "⚙️ \u001b[1;34mRunning: az deployment group create --name ai-foundry --resource-group lab-ai-foundry --template-file main.bicep --parameters params.json \u001b[0m\n",
      "⛔ \u001b[1;31mDeployment 'ai-foundry' failed\u001b[0m ⌚ 12:01:03.939066 [6m:23s] WARNING: A new Bicep release is available: v0.35.1. Upgrade now by running \"az bicep upgrade\".\n",
      "WARNING: c:\\Users\\pablocastao\\OneDrive - Microsoft\\Work\\Clients\\Bancolombia\\gbbai-ai-foundry-sdk-workshop\\1-infra\\modules\\standard-dependent-resources.bicep(120,21) : Warning BCP081: Resource type \"Microsoft.Bing/accounts@2020-06-10\" does not have types available. Bicep is unable to validate resource properties prior to deployment, but this will not block the resource from being deployed. [https://aka.ms/bicep/core-diagnostics#BCP081]\n",
      "c:\\Users\\pablocastao\\OneDrive - Microsoft\\Work\\Clients\\Bancolombia\\gbbai-ai-foundry-sdk-workshop\\1-infra\\modules\\standard-dependent-resources.bicep(265,31) : Warning outputs-should-not-contain-secrets: Outputs should not contain secrets. Found possible secret: function 'listKeys' [https://aka.ms/bicep/linter/outputs-should-not-contain-secrets]\n",
      "c:\\Users\\pablocastao\\OneDrive - Microsoft\\Work\\Clients\\Bancolombia\\gbbai-ai-foundry-sdk-workshop\\1-infra\\main.bicep(245,99) : Warning no-hardcoded-env-urls: Environment URLs should not be hardcoded. Use the environment() function to ensure compatibility across clouds. Found this disallowed host: \"core.windows.net\" [https://aka.ms/bicep/linter/no-hardcoded-env-urls]\n",
      "c:\\Users\\pablocastao\\OneDrive - Microsoft\\Work\\Clients\\Bancolombia\\gbbai-ai-foundry-sdk-workshop\\1-infra\\modules\\standard-ai-hub.bicep(106,5) : Warning BCP037: The property \"logAnalytics\" is not allowed on objects of type \"WorkspaceProperties\". Permissible properties include \"allowPublicAccessWhenBehindVnet\", \"allowRoleAssignmentOnRG\", \"associatedWorkspaces\", \"containerRegistries\", \"discoveryUrl\", \"enableDataIsolation\", \"enableServiceSideCMKEncryption\", \"enableSimplifiedCmk\", \"enableSoftwareBillOfMaterials\", \"encryption\", \"existingWorkspaces\", \"featureStoreSettings\", \"hbiWorkspace\", \"hubResourceId\", \"imageBuildCompute\", \"ipAllowlist\", \"keyVaults\", \"managedNetwork\", \"networkAcls\", \"primaryUserAssignedIdentity\", \"provisionNetworkNow\", \"serverlessComputeSettings\", \"serviceManagedResourcesSettings\", \"sharedPrivateLinkResources\", \"softDeleteRetentionInDays\", \"storageAccounts\", \"v1LegacyMode\", \"workspaceHubConfig\". If this is a resource type definition inaccuracy, report it using https://aka.ms/bicep-type-issues. [https://aka.ms/bicep/core-diagnostics#BCP037]\n",
      "\n",
      "ERROR: {\"status\":\"Failed\",\"error\":{\"code\":\"DeploymentFailed\",\"target\":\"/subscriptions/06d043e2-5a2e-46bf-bf48-fffee525f377/resourceGroups/lab-ai-foundry/providers/Microsoft.Resources/deployments/ai-foundry\",\"message\":\"At least one resource deployment operation failed. Please list deployment operations for details. Please see https://aka.ms/arm-deployment-operations for usage details.\",\"details\":[{\"code\":\"ResourceDeploymentFailure\",\"target\":\"/subscriptions/06d043e2-5a2e-46bf-bf48-fffee525f377/resourceGroups/lab-ai-foundry/providers/Microsoft.Resources/deployments/project-demo-sv3e-deployment\",\"message\":\"The resource write operation failed to complete successfully, because it reached terminal provisioning state 'Failed'.\",\"details\":[{\"code\":\"DeploymentFailed\",\"target\":\"/subscriptions/06d043e2-5a2e-46bf-bf48-fffee525f377/resourceGroups/lab-ai-foundry/providers/Microsoft.Resources/deployments/project-demo-sv3e-deployment\",\"message\":\"At least one resource deployment operation failed. Please list deployment operations for details. Please see https://aka.ms/arm-deployment-operations for usage details.\",\"details\":[{\"code\":\"ResourceDeploymentFailure\",\"target\":\"/subscriptions/06d043e2-5a2e-46bf-bf48-fffee525f377/resourceGroups/lab-ai-foundry/providers/Microsoft.MachineLearningServices/workspaces/project-demo-sv3e\",\"message\":\"The resource write operation failed to complete successfully, because it reached terminal provisioning state 'Failed'.\",\"details\":[{\"code\":\"BadRequest\",\"message\":\"Failed to perform 'write' on resource(s) of type 'vaults/accessPolicies', because the parent resource '/subscriptions/06d043e2-5a2e-46bf-bf48-fffee525f377/resourceGroups/lab-ai-foundry/providers/Microsoft.KeyVault/vaults/kv-hub-demo-sv3e' could not be found.\"}]}]}]}]}}\n",
      "\n"
     ]
    }
   ],
   "source": [
    "# Create the resource group if doesn't exist\n",
    "utils.create_resource_group(resource_group_name, resource_group_location)\n",
    "\n",
    "# Define the Bicep parameters\n",
    "bicep_parameters = {\n",
    "    \"$schema\": \"https://schema.management.azure.com/schemas/2019-04-01/deploymentParameters.json#\",\n",
    "    \"contentVersion\": \"1.0.0.0\",\n",
    "    \"parameters\": {\n",
    "        \"modelsConfig\": { \"value\": models_config },\n",
    "        \"principalId\": { \"value\": principalId }\n",
    "    }\n",
    "}\n",
    "\n",
    "# Write the parameters to the params.json file\n",
    "with open('params.json', 'w') as bicep_parameters_file:\n",
    "    bicep_parameters_file.write(json.dumps(bicep_parameters))\n",
    "\n",
    "# Run the deployment\n",
    "output = utils.run(f\"az deployment group create --name {deployment_name} --resource-group {resource_group_name} --template-file main.bicep --parameters params.json\",\n",
    "    f\"Deployment '{deployment_name}' succeeded\", f\"Deployment '{deployment_name}' failed\")"
   ]
  },
  {
   "cell_type": "markdown",
   "metadata": {},
   "source": [
    "<a id='3'></a>\n",
    "### 3️⃣ Get the deployment outputs\n",
    "\n",
    "Retrieve the required outputs from the Bicep deployment."
   ]
  },
  {
   "cell_type": "code",
   "execution_count": 8,
   "metadata": {},
   "outputs": [
    {
     "name": "stdout",
     "output_type": "stream",
     "text": [
      "⚙️ \u001b[1;34mRunning: az deployment group show --name ai-foundry -g lab-ai-foundry \u001b[0m\n",
      "⛔ \u001b[1;31mFailed to retrieve deployment: ai-foundry\u001b[0m ⌚ 11:53:15.980098 [0m:3s] ERROR: (DeploymentNotFound) Deployment 'ai-foundry' could not be found.\n",
      "Code: DeploymentNotFound\n",
      "Message: Deployment 'ai-foundry' could not be found.\n",
      "\n"
     ]
    }
   ],
   "source": [
    "# Obtain all of the outputs from the deployment\n",
    "output = utils.run(f\"az deployment group show --name {deployment_name} -g {resource_group_name}\", f\"Retrieved deployment: {deployment_name}\", f\"Failed to retrieve deployment: {deployment_name}\")\n",
    "\n",
    "if output.success and output.json_data:\n",
    "    project = utils.get_deployment_output(output, 'projectConnectionString', 'Project Connection String')    \n",
    "    app_insights_name = utils.get_deployment_output(output, 'applicationInsightsName', 'Application Insights Name')\n",
    "    container_registry_name = utils.get_deployment_output(output, 'containerRegistryName', 'Container Registry Name')\n",
    "    weather_containerapp_resource_name = utils.get_deployment_output(output, 'weatherMCPServerContainerAppResourceName', 'Weather Container App Resource Name')\n",
    "    weather_containerapp_url = utils.get_deployment_output(output, 'weatherMCPServerContainerAppFQDN', 'Weather Container App URL')\n",
    "    bingConnectionName = utils.get_deployment_output(output, 'bingConnectionName', 'Bing Connection Name')\n",
    "    generative_model_deployment_name = utils.get_deployment_output(output, 'generativeModelDeploymentName', 'Model Deployment Name')\n",
    "    embedding_model_deployment_name = utils.get_deployment_output(output, 'embeddingModelDeploymentName', 'Embedding Model Name')\n",
    "    azure_search_endpoint = utils.get_deployment_output(output, 'aiSearchEndpoint', 'Azure Search Endpoint')\n",
    "    azure_openai_endpoint = utils.get_deployment_output(output, 'openAIEndpoint', 'Azure OpenAI Endpoint')\n",
    "    azure_storage_account_url = utils.get_deployment_output(output, 'azureStorageAccountUrl', 'Azure Storage Account URL')\n",
    "    storage_account_name = utils.get_deployment_output(output, 'azureStorageAccountName', 'Azure Storage Account Name')\n",
    "    azure_ai_services_endpoint = utils.get_deployment_output(output, 'aiServicesEndpoint', 'AI Services Endpoint')\n",
    "\n",
    "   # Write the project and outputs to an .env file\n",
    "    with open('../.env', 'w') as env_file:\n",
    "        env_file.write(f\"PROJECT_CONNECTION_STRING='{project}'\\n\")\n",
    "        env_file.write(f\"APPLICATION_INSIGHTS_NAME='{app_insights_name}'\\n\")\n",
    "        env_file.write(f\"CONTAINER_REGISTRY_NAME='{container_registry_name}'\\n\")\n",
    "        env_file.write(f\"WEATHER_CONTAINERAPP_RESOURCE_NAME='{weather_containerapp_resource_name}'\\n\")\n",
    "        env_file.write(f\"WEATHER_CONTAINERAPP_URL='{weather_containerapp_url}'\\n\")\n",
    "        env_file.write(f\"BING_CONNECTION_NAME='{bingConnectionName}'\\n\")\n",
    "        env_file.write(f\"GENERATIVE_DEPLOYMENT_NAME='{generative_model_deployment_name }'\\n\")\n",
    "        env_file.write(f\"EMBEDDING_DEPLOYMENT_NAME='{ embedding_model_deployment_name }'\\n\")\n",
    "        env_file.write(f\"AOAI_API_VERSION='2024-12-01-preview'\\n\")\n",
    "        env_file.write(f\"AZURE_SEARCH_ENDPOINT='{azure_search_endpoint}'\\n\")\n",
    "        env_file.write(f\"AZURE_OPENAI_ENDPOINT='{azure_openai_endpoint}'\\n\")       \n",
    "        env_file.write(f\"AZURE_STORAGE_ACCOUNT_URL='{azure_storage_account_url}'\\n\")\n",
    "        env_file.write(f\"AZURE_SUBSCRIPTION_ID='{subscription_id}'\\n\")\n",
    "        env_file.write(f\"AZURE_RESOURCE_GROUP='{resource_group_name}'\\n\")\n",
    "        env_file.write(f\"AZURE_STORAGE_ACCOUNT_NAME='{storage_account_name}'\\n\")\n",
    "        env_file.write(f\"AZURE_AI_SERVICES_ENDPOINT='{azure_ai_services_endpoint}'\\n\")\n"
   ]
  },
  {
   "cell_type": "markdown",
   "metadata": {},
   "source": [
    "### 4️⃣ Build and deploy the MCP Servers"
   ]
  },
  {
   "cell_type": "code",
   "execution_count": 6,
   "metadata": {},
   "outputs": [
    {
     "name": "stdout",
     "output_type": "stream",
     "text": [
      "⚙️ \u001b[1;34mRunning: az acr build --image weather-mcp-server:v0.1 --resource-group lab-ai-foundry --registry agentcontainerregistryjrpn --file ./src/weather/mcp-server/Dockerfile ./src/weather/mcp-server/. --no-logs \u001b[0m\n",
      "✅ \u001b[1;32mWeather MCP Server image was successfully built\u001b[0m ⌚ 16:30:53.145536 [1m:7s]\n",
      "⚙️ \u001b[1;34mRunning: az containerapp update -n aca-weather-jrpn -g lab-ai-foundry --image \"agentcontainerregistryjrpn.azurecr.io/weather-mcp-server:v0.1\" \u001b[0m\n",
      "✅ \u001b[1;32mWeather MCP Server deployment succeeded\u001b[0m ⌚ 16:31:21.831264 [0m:28s]\n"
     ]
    },
    {
     "data": {
      "text/plain": [
       "<utils.Output at 0x2a6708aed10>"
      ]
     },
     "execution_count": 6,
     "metadata": {},
     "output_type": "execute_result"
    }
   ],
   "source": [
    "build = build + 1 # increment the build number\n",
    "\n",
    "utils.run(f\"az acr build --image {weather_mcp_server_image}:v0.{build} --resource-group {resource_group_name} --registry {container_registry_name} --file {weather_mcp_server_src}/Dockerfile {weather_mcp_server_src}/. --no-logs\", \n",
    "          \"Weather MCP Server image was successfully built\", \"Failed to build the Weather MCP Server image\")\n",
    "utils.run(f'az containerapp update -n {weather_containerapp_resource_name} -g {resource_group_name} --image \"{container_registry_name}.azurecr.io/{weather_mcp_server_image}:v0.{build}\"', \n",
    "          \"Weather MCP Server deployment succeeded\", \"Weather MCP Server deployment failed\")"
   ]
  }
 ],
 "metadata": {
  "kernelspec": {
   "display_name": ".venv",
   "language": "python",
   "name": "python3"
  },
  "language_info": {
   "codemirror_mode": {
    "name": "ipython",
    "version": 3
   },
   "file_extension": ".py",
   "mimetype": "text/x-python",
   "name": "python",
   "nbconvert_exporter": "python",
   "pygments_lexer": "ipython3",
   "version": "3.11.0rc2"
  }
 },
 "nbformat": 4,
 "nbformat_minor": 2
}
